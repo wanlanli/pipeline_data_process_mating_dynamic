{
 "cells": [
  {
   "cell_type": "markdown",
   "id": "10ac7f49-9aa5-45d8-8212-d79c8ec0fbfc",
   "metadata": {},
   "source": [
    "#### Mating data process pipeline"
   ]
  },
  {
   "cell_type": "code",
   "execution_count": 9,
   "id": "7d46b3b6-f384-4566-969f-eff3a419c834",
   "metadata": {
    "tags": []
   },
   "outputs": [],
   "source": [
    "import sys\n",
    "sys.path.append(\"../\")\n",
    "import os\n",
    "\n",
    "import numpy as np\n",
    "# import pandas as pd\n",
    "# import matplotlib.pyplot as plt\n",
    "import seaborn as sns\n",
    "from tqdm import trange\n",
    "\n",
    "from cellmating.utils import file_traverse, load_from_pkl\n",
    "from cellmating.io import imread\n",
    "\n",
    "from script_wlli.mating_feature_extract import extract_mating_features, stack_features"
   ]
  },
  {
   "cell_type": "code",
   "execution_count": 2,
   "id": "e934b3ef-1f62-4088-977d-8e6906eac815",
   "metadata": {
    "tags": []
   },
   "outputs": [
    {
     "name": "stdout",
     "output_type": "stream",
     "text": [
      "totle images:  195\n"
     ]
    }
   ],
   "source": [
    "root = \"/media/wlli/T7/data/mating_all/\"\n",
    "file_list = file_traverse(root, file_regular=r\".*/selected/.*.tif\")\n",
    "print(\"totle images: \", len(file_list))"
   ]
  },
  {
   "cell_type": "code",
   "execution_count": 3,
   "id": "a847b8bf-8e64-418b-ba7c-a4d64fa91b65",
   "metadata": {},
   "outputs": [],
   "source": [
    "from script_wlli.utils import load_configs\n",
    "config = load_configs(\"./config_mating.yml\")"
   ]
  },
  {
   "cell_type": "code",
   "execution_count": 4,
   "id": "becaf65f-b113-47bc-81c2-90abf32463d7",
   "metadata": {},
   "outputs": [
    {
     "name": "stderr",
     "output_type": "stream",
     "text": [
      "  0%|                                                     | 0/3 [00:00<?, ?it/s]WARNING:root:cell id=59 not exist at time=17\n",
      " 33%|███████████████                              | 1/3 [00:17<00:35, 17.96s/it]WARNING:root:cell id=58 not exist at time=14\n",
      "WARNING:root:cell id=58 not exist at time=8\n",
      "100%|█████████████████████████████████████████████| 3/3 [00:52<00:00, 17.66s/it]\n"
     ]
    }
   ],
   "source": [
    "all_images_feature_over_time = {}\n",
    "for i in trange(0, 3):\n",
    "    file_name = file_list[i]\n",
    "    try:\n",
    "        image = imread(file_name)\n",
    "        g = load_from_pkl(file_name[:-4]+\".network\")\n",
    "        key = int(file_name.split(\"_\")[-1][:-4])\n",
    "        key = np.unique(image[-1,-1][image[-1,-2] == key])[0]%1000\n",
    "        # extract features\n",
    "        data = extract_mating_features(image, g, key)\n",
    "        # stack features\n",
    "        all_images_feature_over_time = stack_features(all_images_feature_over_time, data, os.path.basename(file_name), config=config)\n",
    "    except Exception as error:\n",
    "    # handle the exception\n",
    "        print(file_name,\" : \", error)"
   ]
  },
  {
   "cell_type": "code",
   "execution_count": null,
   "id": "4e1191dd-a424-494a-a0fa-038d6a6d5966",
   "metadata": {},
   "outputs": [],
   "source": [
    "# dump_to_pkl(all_images_feature_over_time,\"./all_time_new.obj\")\n",
    "# for key in all_images_feature_over_time:\n",
    "#     data = all_images_feature_over_time[key]\n",
    "#     data.to_csv(\"./csv/\"+key+\".csv\")"
   ]
  },
  {
   "cell_type": "code",
   "execution_count": null,
   "id": "bef2d76c-d549-439f-b34d-9ec158ab532b",
   "metadata": {},
   "outputs": [],
   "source": []
  }
 ],
 "metadata": {
  "kernelspec": {
   "display_name": "Python 3 (ipykernel)",
   "language": "python",
   "name": "python3"
  },
  "language_info": {
   "codemirror_mode": {
    "name": "ipython",
    "version": 3
   },
   "file_extension": ".py",
   "mimetype": "text/x-python",
   "name": "python",
   "nbconvert_exporter": "python",
   "pygments_lexer": "ipython3",
   "version": "3.11.5"
  }
 },
 "nbformat": 4,
 "nbformat_minor": 5
}
