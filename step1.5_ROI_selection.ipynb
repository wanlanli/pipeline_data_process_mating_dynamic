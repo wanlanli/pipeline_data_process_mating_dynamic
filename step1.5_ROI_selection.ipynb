{
 "cells": [
  {
   "cell_type": "code",
   "execution_count": 1,
   "id": "22510f00-3b7b-4a8f-bec5-0d028910dff9",
   "metadata": {},
   "outputs": [],
   "source": [
    "import sys\n",
    "sys.path.append(\"../../\")\n",
    "sys.path.append(\"..\")\n",
    "import matplotlib.pyplot as plt\n",
    "import numpy as np\n",
    "from IPython.display import HTML"
   ]
  },
  {
   "cell_type": "code",
   "execution_count": 2,
   "id": "316da6f4-7dbd-45b7-bc91-5441cd930ece",
   "metadata": {},
   "outputs": [],
   "source": [
    "from cellmating.tracking._hausdorf_tracker import Tracker\n",
    "from cellmating.visualize import animate_images\n",
    "from cellmating.utils import file_traverse\n",
    "from cellmating.io import imread, imsave\n",
    "from cellmating.utils import crop_single_object\n",
    "from cellmating.visualize import label2rgb"
   ]
  },
  {
   "cell_type": "code",
   "execution_count": 3,
   "id": "5c1fd738-84a9-4898-83fa-f52289b95ed7",
   "metadata": {},
   "outputs": [],
   "source": [
    "file_root = \"/media/wd/T7/data/mating_all/20220903_YAV2104xYAV2105_003/tif/\"\n",
    "file_root = \"/Volumes/T7/data/mating_all/20220903_YAV2104xYAV2105_003/tif/\"\n",
    "file_list = file_traverse(file_root, file_regular=\".*._rigid.tif$\")"
   ]
  },
  {
   "cell_type": "code",
   "execution_count": 39,
   "id": "030fe7a5-9307-4277-a1e3-58171fea99db",
   "metadata": {},
   "outputs": [
    {
     "name": "stdout",
     "output_type": "stream",
     "text": [
      "/Volumes/T7/data/mating_all/20220903_YAV2104xYAV2105_003/tif/YAV2104xYAV2105_005_03_rigid.tif\n",
      "(241, 4, 1020, 1020)\n"
     ]
    }
   ],
   "source": [
    "filename = file_list[2]\n",
    "print(filename)\n",
    "image = imread(filename)\n",
    "image = np.moveaxis(image, -1, 1)\n",
    "print(image.shape)"
   ]
  },
  {
   "cell_type": "code",
   "execution_count": 40,
   "id": "c844ba27-7607-4580-9955-51f5c7dcfe9b",
   "metadata": {
    "scrolled": true
   },
   "outputs": [
    {
     "name": "stdout",
     "output_type": "stream",
     "text": [
      "fusion: [[0 1 2]]\n",
      "frame= 1 [1100] [1016, 1022, 2001]\n",
      "divison: [[0 2 3]]\n",
      "frame= 2 [1100] [1015, 1021, 2001]\n",
      "frame= 3 [] [1006, 1022, 2001]\n",
      "frame= 4 [1097] [1006, 1022, 2001]\n",
      "frame= 5 [1046, 1097] [1021, 2001]\n",
      "frame= 6 [1046, 1097] [1021, 2001]\n",
      "frame= 7 [1097] [1015, 1021, 1062, 1083]\n",
      "frame= 8 [1045, 1097] [1006, 1016, 1022, 1083]\n",
      "frame= 9 [1097] [1006, 1016, 1022, 1084]\n",
      "frame= 10 [1097] [1006, 1016, 1022, 2001]\n",
      "divison: [[0 3 4]\n",
      " [2 6 7]]\n",
      "frame= 11 [1097] [1006, 1016, 1022, 1084]\n",
      "frame= 12 [] [1109]\n",
      "divison: [[0 0 1]\n",
      " [1 2 3]]\n",
      "frame= 13 [] [1110]\n",
      "frame= 15 [] [1112]\n",
      "frame= 16 [] [1132]\n",
      "divison: [[0 0 2]]\n",
      "frame= 17 [1047, 1102] [1006, 1018, 1025, 1125, 2001]\n",
      "frame= 18 [1047] [1017, 1024, 1087, 1127, 2001]\n",
      "frame= 19 [1047] [1006, 1018, 1025, 1127]\n",
      "frame= 20 [1101] [1006, 1018, 1067, 1088, 1126]\n",
      "frame= 21 [1101] [1018, 1025, 1067, 1089, 1129]\n",
      "divison: [[0 1 2]]\n",
      "frame= 22 [1101] [1006, 1019, 1026, 1105]\n",
      "frame= 23 [1101] [1025, 1067, 1088, 1128]\n",
      "divison: [[0 3 4]]\n",
      "frame= 24 [1101] [1006, 1019, 1026, 1089, 2001]\n",
      "frame= 25 [1101] [1018, 1025, 1067, 1090, 1105, 1129, 1130]\n",
      "frame= 26 [1101] [1025, 1067, 1089]\n",
      "frame= 27 [1101] [1025, 1067, 1089, 1127]\n",
      "divison: [[0 1 2]\n",
      " [1 3 4]]\n",
      "frame= 28 [1101] [1025, 1069, 1092, 1130]\n",
      "divison: [[0 4 5]]\n",
      "frame= 29 [1101] [1019, 1026, 1070, 1092, 1133]\n",
      "divison: [[0 1 2]]\n",
      "frame= 30 [] [1025, 1070, 1092, 1106]\n",
      "frame= 31 [1052] [1025]\n",
      "divison: [[0 1 3]]\n",
      "frame= 32 [] [1110, 1118]\n",
      "divison: [[0 0 1]]\n",
      "frame= 33 [] [1107, 1139]\n",
      "divison: [[0 0 1]]\n",
      "frame= 34 [] [1111]\n",
      "frame= 35 [] [1074, 1095, 1109, 1137]\n",
      "frame= 36 [1054] [1006, 1134, 3001]\n",
      "frame= 37 [1054] [1006, 1027, 1109, 1136, 3001]\n",
      "frame= 38 [1054] [1006, 1027, 1094, 1107, 1135, 3001]\n",
      "frame= 39 [] [1006, 1027, 1094, 1108, 1137, 3001]\n",
      "frame= 40 [] [1006, 1027, 1070, 1095, 1108, 1136]\n",
      "frame= 41 [] [1026, 1093]\n",
      "divison: [[0 2 3]]\n",
      "frame= 42 [] [1026, 1093, 1134]\n",
      "frame= 43 [1127] [1006, 1020, 1027, 1074, 1095]\n",
      "frame= 44 [] [1006, 1027, 1094, 4001]\n",
      "frame= 45 [] [1094, 1137]\n",
      "divison: [[0 2 3]]\n",
      "frame= 46 [1067] [1006, 1027, 1094, 1136]\n",
      "frame= 47 [1050] [1006, 1027, 1095]\n",
      "frame= 48 [1050] [1006, 1027, 1095, 1136]\n",
      "frame= 49 [1050] [1006, 1020, 1027, 1069, 1096, 1137]\n",
      "frame= 50 [1071, 1050] [1006, 1027, 4001]\n",
      "divison: [[0 1 2]]\n",
      "frame= 51 [1050] [1027, 1076, 1097]\n",
      "frame= 52 [1050] [1113, 1144]\n",
      "frame= 53 [] [1141]\n",
      "divison: [[0 0 1]]\n",
      "fusion: [[0 1 0]]\n",
      "frame= 54 [] [1113]\n",
      "frame= 55 [1053] [1114]\n",
      "frame= 56 [1053] [1027, 1097, 2001]\n",
      "divison: [[0 2 3]]\n",
      "fusion: [[0 1 4]]\n",
      "frame= 57 [1053] [1026, 1077, 1098, 1139]\n",
      "frame= 58 [1053] [1027, 1078, 1113, 1142]\n",
      "frame= 59 [1053] [1006, 1027, 1098, 1141]\n",
      "frame= 60 [1053] [1027, 1098, 1141, 1142]\n",
      "frame= 61 [1053] [1006, 1027, 1076, 1100, 1141]\n",
      "frame= 62 [1053] [1006, 1027, 1098, 1141]\n",
      "divison: [[0 2 3]]\n",
      "frame= 63 [1053] [1006, 1027, 1099, 1141, 1142]\n",
      "frame= 64 [] [1027, 1142]\n",
      "frame= 65 [] [1006, 1027, 1099]\n",
      "frame= 66 [] [1026, 1098, 1140]\n",
      "frame= 67 [] [1006, 1020, 1027, 1076, 1100, 1141]\n",
      "divison: [[0 2 3]]\n",
      "frame= 68 [] [1006, 1027, 1100, 4001]\n",
      "divison: [[0 2 3]]\n",
      "frame= 69 [] [1006, 1027, 1100]\n",
      "frame= 70 [] [1006, 1027, 1101, 1143]\n",
      "divison: [[0 1 2]]\n",
      "frame= 71 [] [1003, 1028, 1103, 3001]\n",
      "divison: [[0 2 3]]\n",
      "frame= 72 [] [1006, 1028, 1103]\n",
      "frame= 73 [] [1067, 1120, 4001]\n",
      "frame= 74 [1063] [1058, 1120, 1132, 1151]\n",
      "frame= 75 [] [1120, 1131, 1151]\n",
      "frame= 76 [] [1055, 1121, 1151]\n",
      "frame= 77 [] [1087, 1122]\n",
      "frame= 78 [] [1027, 1082, 1103, 1145]\n",
      "fusion: [[0 1 3]]\n",
      "frame= 79 [] [1026, 1077, 2001]\n",
      "frame= 80 [] [1027, 1078, 1102, 1143]\n",
      "frame= 81 [] [1027, 1081, 1101]\n",
      "frame= 82 [] [1027, 1081, 1101]\n",
      "divison: [[0 1 2]]\n",
      "frame= 83 [] [1027, 1082, 1102, 1143, 1144]\n",
      "frame= 84 [] [1026, 1081, 1101, 1143]\n",
      "frame= 85 [] [1027, 1080, 1102]\n",
      "frame= 86 [] [1027, 1080, 1102, 1144]\n",
      "divison: [[0 1 2]]\n",
      "frame= 87 [] [1006, 1105]\n",
      "frame= 88 [1089, 1085, 1092] [1028, 1083, 1102]\n",
      "frame= 89 [] [1027, 1102, 4001]\n",
      "frame= 90 [] [1027, 1102, 1144]\n",
      "frame= 91 [] [1028, 1103]\n",
      "frame= 92 [] [1102, 1144]\n",
      "divison: [[0 1 2]]\n",
      "frame= 93 [] [1012, 1123, 4001]\n",
      "frame= 94 [] [1012, 1058, 1123, 1153]\n",
      "frame= 95 [] [1012, 1121]\n",
      "divison: [[1 2 3]]\n",
      "frame= 96 [1062] [1028, 1060, 1148]\n",
      "frame= 97 [] [1104]\n",
      "frame= 98 [] [1105, 1119, 1149]\n",
      "frame= 99 [] [1028, 1105, 1145, 2001]\n",
      "frame= 100 [] [1028, 1105, 1145]\n",
      "frame= 101 [1111] [1104, 1144]\n",
      "frame= 102 [] [1106, 1109, 1147]\n",
      "divison: [[0 0 1]]\n",
      "frame= 103 [] [1106, 1147]\n",
      "divison: [[0 2 3]]\n",
      "frame= 104 [] [1029, 1107]\n",
      "frame= 105 [] [1106, 1109, 1149]\n",
      "frame= 106 [] [1027, 1106, 1109, 2001]\n",
      "frame= 107 [] [1028, 1146, 2001, 2002]\n",
      "divison: [[0 1 2]]\n",
      "frame= 108 [] [1106, 1149]\n",
      "frame= 109 [] [1027, 1106, 1110, 1149]\n",
      "divison: [[0 1 2]]\n",
      "frame= 110 [] [1029, 1108, 1112, 1124, 1152]\n",
      "frame= 111 [1084] [1083, 1110, 1150, 2001]\n",
      "fusion: [[0 1 4]]\n",
      "frame= 112 [] [1012, 1113, 1125, 1154]\n",
      "frame= 113 [1084] [1012, 1114, 1126, 1156]\n",
      "frame= 114 [] [1105, 1109, 1120, 1149]\n",
      "divison: [[0 2 4]]\n",
      "frame= 115 [] [1105, 1109, 1120, 1150]\n",
      "divison: [[0 0 1]]\n",
      "frame= 116 [] [1106, 1110, 1150]\n",
      "fusion: [[0 1 2]]\n",
      "frame= 117 [] [1029, 1107, 1151, 2001, 2002]\n",
      "frame= 118 [] [1029, 1059, 1107, 1111]\n",
      "frame= 119 [] [1022, 1028, 1106, 1110, 1150, 2001]\n",
      "divison: [[0 1 2]]\n",
      "frame= 120 [] [1022, 1107, 1111, 1152, 2001, 3002]\n",
      "frame= 121 [] [1028, 1107, 1111, 1152, 2001]\n",
      "divison: [[0 1 2]]\n",
      "frame= 122 [] [1022, 1109, 1113, 1152, 2002]\n",
      "frame= 123 [] [1027, 1091, 1099, 1108, 1112, 1153, 2001]\n",
      "frame= 124 [] [1028, 1059, 1089, 1100, 1109, 1113]\n",
      "fusion: [[3 4 7]]\n",
      "frame= 125 [1114, 3003, 1117] [1029, 1086, 1101, 1110, 1114, 1115, 1118, 1154, 3003]\n",
      "divison: [[1 4 5]]\n",
      "frame= 126 [1091, 1085] [1028, 1083, 1099, 1108, 1124, 1153]\n",
      "fusion: [[1 2 6]]\n",
      "frame= 127 [1091, 1085] [1028, 1080, 1099, 1108, 1112, 1152]\n",
      "frame= 128 [] [1028, 1092, 1100, 1109, 1113, 1153]\n",
      "frame= 129 [] [1028, 1084, 1100, 1109, 1113, 1154]\n",
      "frame= 130 [] [1028, 1100, 1109, 1113, 1152]\n",
      "frame= 131 [] [1012, 1028, 1061, 1097, 1105, 1117, 1128, 1160, 1162]\n",
      "frame= 132 [] [1012, 1028, 1095, 1103, 1115, 1126]\n",
      "frame= 133 [] [1012, 1028, 1097, 1105, 1113, 1117, 1128, 1160]\n",
      "frame= 134 [] [1021, 1027, 1099, 1108, 1112, 1124, 1153]\n",
      "frame= 135 [] [1027, 1060, 1092, 1107, 1111, 1121, 1151]\n",
      "frame= 136 [] [1028, 1086, 1100, 1109, 1113, 1152]\n",
      "frame= 137 [] [1028, 1092, 1100, 1109, 1113, 1123, 1152]\n",
      "frame= 138 [1122] [1022, 1028, 1088, 1100, 1109, 1113, 1120, 1123, 1152, 2001]\n",
      "divison: [[0 1 2]]\n",
      "frame= 139 [] [1029, 1094, 1102, 1111, 1115, 1155]\n",
      "frame= 140 [1071] [1023, 1029, 1062, 1071, 1085, 1102, 1111, 1115, 1154]\n",
      "divison: [[ 1 10 11]]\n",
      "frame= 141 [1071] [1022, 1028, 1063, 1070, 1084, 1100, 1109, 1113, 1123, 1153, 1156]\n",
      "divison: [[1 2 3]]\n",
      "frame= 142 [1071] [1027, 1069, 1091, 1101, 1110, 1114, 1124, 1154]\n",
      "divison: [[0 0 1]]\n",
      "frame= 143 [1071] [1029, 1071, 1095, 1103, 1112, 1116, 1126, 1156, 1159]\n",
      "frame= 144 [1071] [1029, 1071, 1088, 1102, 1104, 1112, 1117, 1155, 1158]\n",
      "frame= 145 [1071] [1021, 1028, 1061, 1070, 1094, 1102, 1111, 1115, 1125, 1154, 1158]\n",
      "frame= 146 [1071] [1029, 1071, 1095, 1103, 1112, 1116, 1155, 1159]\n",
      "divison: [[0 0 1]]\n",
      "frame= 147 [1071] [1031, 1064, 1073, 1088, 1102, 1105, 1114, 1118]\n",
      "frame= 148 [1071] [1030, 1063, 1072, 1096, 1104, 1113, 1117, 1156, 1159]\n",
      "divison: [[3 4 5]]\n",
      "frame= 149 [1071, 1122, 1122, 1122] [1023, 1031, 1064, 1073, 1100, 1108, 1117, 1121, 1159]\n",
      "fusion: [[0 1 8]]\n",
      "frame= 150 [] [1023, 1031, 1064, 1073, 1089, 1104, 1113, 1117, 1159]\n",
      "frame= 151 [1122, 1122, 1122] [1029, 1062, 1071, 1101, 1110, 1116, 1125, 1154, 1155]\n",
      "frame= 152 [] [1012, 1033, 1066, 1075, 1102, 1109, 1121, 1133, 1162, 1165, 4001]\n",
      "divison: [[0 2 3]]\n",
      "frame= 153 [] [1012, 1033, 1075, 1093, 1102, 1110, 1119, 1122, 1135]\n",
      "frame= 154 [1095] [1030, 1073, 1089, 1102, 1104, 1113, 1117, 1127, 1156, 1160]\n",
      "frame= 155 [] [1022, 1030, 1073, 1103, 1112, 1116, 1155, 1158, 3003]\n",
      "frame= 156 [] [1030, 1064, 1072, 1097, 1102, 1116, 1155, 1159]\n",
      "frame= 157 [] [1022, 1030, 1064, 1073, 1097, 1105, 1118, 1157, 1160]\n",
      "frame= 158 [] [1022, 1030, 1073, 1097, 1103, 1105, 1114, 1118, 1135, 1158, 1161]\n",
      "frame= 159 [] [1030, 1064, 1073, 1104, 1113, 1117, 1156, 1159]\n",
      "frame= 160 [1090] [1022, 1030, 1063, 1073, 1085, 1103, 1112, 1116, 1127, 1155, 1158, 3002]\n",
      "frame= 161 [] [1022, 1030, 1064, 1073, 1097, 1104, 1113, 1118, 1129, 1158, 1161]\n",
      "frame= 162 [] [1022, 1030, 1064, 1073, 1097, 1105, 1114, 1118, 1156, 1159]\n",
      "frame= 163 [] [1021, 1029, 1063, 1072, 1096, 1104, 1113, 1117, 1127, 1156, 1160]\n",
      "frame= 164 [] [1030, 1062, 1073, 1097, 1103, 1105, 1114, 1118, 1156, 1159]\n",
      "divison: [[0 8 9]]\n",
      "frame= 165 [] [1030, 1064, 1073, 1097, 1104, 1113, 1118, 1134, 1158, 1161]\n",
      "frame= 166 [] [1031, 1064, 1074, 1089, 1106, 1115, 1119, 1159, 1163]\n",
      "frame= 167 [] [1022, 1030, 1073, 1097, 1105, 1114, 1118, 1159, 1162]\n",
      "frame= 168 [1090] [1022, 1030, 1062, 1073, 1085, 1104, 1113, 1117, 1127, 1156, 1160, 1162]\n",
      "fusion: [[ 0  1 11]]\n",
      "frame= 169 [] [1022, 1030, 1064, 1073, 1097, 1104, 1113, 1117, 1128, 1133, 1160]\n",
      "frame= 170 [] [1029, 1063, 1072, 1088, 1102, 1104, 1113, 1117, 1155, 1158]\n",
      "frame= 171 [] [1022, 1030, 1064, 1073, 1090, 1105, 1114, 1118, 1158, 1161]\n",
      "frame= 172 [] [1029, 1072, 1093, 1103, 1112, 1116, 1126, 1131, 1155, 1158]\n",
      "frame= 173 [] [1012, 1033, 1075, 1093, 1102, 1110, 1123, 1133, 1163]\n",
      "frame= 174 [] [1011, 1033, 1067, 1076, 1103, 1110, 1118, 1122, 1133, 1161, 1164]\n",
      "frame= 175 [] [1029, 1072, 1097, 1111, 1115, 1154, 1157]\n",
      "frame= 176 [] [1030, 1064, 1073, 1097, 1104, 1113, 1125, 1155, 1158, 2001, 3003]\n",
      "fusion: [[0 1 6]]\n",
      "frame= 177 [] [1029, 1072, 1102, 1111, 1115, 1153]\n",
      "frame= 178 [] [1029, 1063, 1073, 1086, 1104, 1113, 1117, 1154, 1157]\n",
      "frame= 179 [] [1021, 1029, 1063, 1072, 1096, 1103, 1112, 1116, 1152, 2001]\n",
      "frame= 180 [] [1029, 1063, 1072, 1090, 1103, 1112, 1116, 1151, 1154, 2001, 3002]\n",
      "frame= 181 [] [1021, 1029, 1061, 1072, 1089, 1103, 1112, 1116, 1152, 1155, 2001, 3002]\n",
      "frame= 182 [] [1029, 1063, 1072, 1102, 1111, 1115, 1150, 1153, 3002]\n",
      "divison: [[0 3 4]]\n",
      "frame= 183 [] [1029, 1063, 1072, 1098, 1106, 1115, 1119, 1155, 1158]\n",
      "divison: [[0 7 8]]\n",
      "frame= 184 [] [1029, 1062, 1072, 1096, 1103, 1112, 1116, 1154, 1157]\n",
      "frame= 185 [] [1021, 1029, 1073, 1098, 1105, 1114, 1117, 1156, 1160]\n",
      "frame= 186 [] [1021, 1029, 1072, 1089, 1103, 1112, 1116, 1155, 1158, 3002]\n",
      "frame= 187 [] [1021, 1029, 1062, 1072, 1090, 1103, 1112, 1116, 1128, 1131, 1154, 1157]\n",
      "frame= 188 [] [1021, 1029, 1072, 1096, 1104, 1113, 1117, 1127, 1155, 1158]\n",
      "frame= 189 [] [1029, 1061, 1072, 1090, 1100, 1104, 1113, 1117, 1126, 1155, 1158]\n",
      "frame= 190 [] [1021, 1030, 1073, 1091, 1104, 1113, 1117, 1155, 1158]\n",
      "frame= 191 [] [1022, 1030, 1073, 1098, 1104, 1106, 1115, 1119, 1131, 1159]\n",
      "frame= 192 [] [1021, 1029, 1064, 1073, 1091, 1104, 1106, 1115, 1119, 1158, 1161]\n",
      "frame= 193 [1089] [1029, 1073, 1089, 1103, 1105, 1114, 1118, 1156, 1159]\n",
      "frame= 194 [] [1012, 1033, 1067, 1076, 1102, 1110, 1122, 1133, 1161, 1164, 3002]\n",
      "frame= 195 [] [1012, 1033, 1065, 1076, 1102, 1109, 1111, 1123, 1135, 1146, 1164, 1167, 2001]\n",
      "frame= 196 [1162] [1012, 1033, 1066, 1076, 1103, 1111, 1124, 1134, 1146, 1164, 1167, 1169, 4002]\n",
      "frame= 197 [1031, 1096] [1028, 1063, 1072, 1088, 1102, 1151, 1154, 3002, 4002]\n",
      "divison: [[0 2 3]]\n",
      "frame= 198 [1031] [1029, 1072, 1097, 1105, 1114, 1118, 1129, 1157, 1160, 3002]\n",
      "fusion: [[0 1 1]]\n",
      "frame= 199 [] [1021, 1027, 1071, 1087, 1103, 1112, 1116, 1127, 1155, 1158, 4002]\n",
      "divison: [[0 1 2]]\n",
      "frame= 200 [] [1027, 1071, 1096, 1104, 1113, 1117, 1128, 1156, 1160, 4002]\n",
      "frame= 201 [] [1021, 1027, 1071, 1096, 1103, 1112, 1116, 1126, 1153, 1156, 1158, 3003]\n",
      "frame= 202 [] [1021, 1027, 1060, 1071, 1097, 1105, 1114, 1118, 1129, 1157, 1160, 4002]\n",
      "frame= 203 [] [1021, 1025, 1071, 1094, 1104, 1113, 1117, 1128, 1156, 1159, 1161, 3003]\n",
      "frame= 204 [] [1021, 1027, 1071, 1097, 1104, 1113, 1117, 1127, 1155, 3003]\n",
      "frame= 205 [] [1027, 1062, 1071, 1096, 1104, 1113, 1117, 1156, 1159, 4002]\n",
      "frame= 206 [1154] [1027, 1062, 1071, 1097, 1105, 1114, 1118, 1130, 1158, 1161, 4002]\n",
      "frame= 207 [] [1027, 1062, 1071, 1090, 1104, 1113, 1117, 1128, 1155, 1160, 3003]\n",
      "frame= 208 [1154] [1021, 1027, 1063, 1072, 1094, 1101, 1106, 1115, 1119, 1130, 1155, 1160]\n",
      "frame= 209 [] [1027, 1071, 1090, 1103, 1112, 1116, 1154, 1158, 3004]\n",
      "frame= 210 [1088, 1152] [1027, 1061, 1071, 1089, 1090, 1095, 1104, 1105, 1114, 1119, 1128, 1154, 1159, 1161]\n",
      "divison: [[0 3 5]]\n",
      "frame= 211 [] [1022, 1028, 1073, 1092, 1106, 1115, 1119, 1129, 1157, 1161, 1162]\n",
      "frame= 212 [] [1027, 1071, 1097, 1104, 1113, 1117, 1155, 1158]\n",
      "frame= 213 [] [1021, 1027, 1062, 1071, 1090, 1104, 1113, 1117, 1128, 1154, 1158]\n",
      "frame= 214 [] [1022, 1027, 1060, 1072, 1099, 1106, 1115, 1119, 1156, 1159, 3003]\n",
      "frame= 215 [] [1022, 1028, 1061, 1072, 1094, 1105, 1114, 1117, 1160, 1161, 3003]\n",
      "frame= 216 [1073] [1022, 1028, 1072, 1094, 1105, 1114, 1117, 1156, 1159, 3003]\n",
      "frame= 217 [1089] [1022, 1028, 1073, 1091, 1105, 1114, 1118, 1155, 1158]\n",
      "frame= 218 [] [1011, 1031, 1102, 1109, 1110, 1122, 1133, 1144, 1163]\n",
      "frame= 219 [] [1011, 1031, 1066, 1075, 1102, 1108, 1110, 1122, 1133, 1143, 1157, 1162]\n",
      "frame= 220 [1076] [1007, 1030, 1074, 1102, 1109, 1118, 1122, 1134, 1143, 1157, 1161, 1165, 1166]\n",
      "frame= 221 [1160] [1022, 1028, 1061, 1072, 1099, 1106, 1115, 1129, 1157, 1160, 1162, 3003, 3004]\n",
      "frame= 222 [] [1027, 1071, 1097, 1104, 1113, 1132, 1156, 1159]\n",
      "frame= 223 [] [1021, 1027, 1072, 1099, 1106, 1115, 1119, 1157, 1160]\n",
      "frame= 224 [] [1022, 1028, 1072, 1098, 1105, 1114, 1118, 1128, 1155, 1158]\n",
      "frame= 225 [] [1027, 1060, 1071, 1097, 1104, 1113, 1116, 1128, 1157, 1160, 1161, 3003]\n",
      "divison: [[0 6 7]]\n",
      "frame= 226 [] [1021, 1025, 1071, 1098, 1105, 1114, 1131, 1156, 1159, 1160, 1161]\n",
      "frame= 227 [] [1021, 1027, 1062, 1071, 1093, 1104, 1113, 1116, 1131, 1156, 1159, 1160, 1161, 2001, 3002]\n",
      "frame= 228 [] [1028, 1072, 1099, 1106, 1115, 1118, 1132, 1157]\n",
      "frame= 229 [4002] [1023, 1029, 1064, 1073, 1094, 1101, 1108, 1117, 1121, 1160, 1163, 1164]\n",
      "frame= 230 [] [1021, 1027, 1062, 1071, 1097, 1104, 1113, 1117, 1130, 1156, 1159]\n",
      "divison: [[0 4 6]]\n",
      "frame= 231 [] [1022, 1028, 1063, 1072, 1092, 1107, 1116, 1120, 1132, 1160, 1163]\n",
      "frame= 232 [1091] [1022, 1028, 1063, 1072, 1089, 1104, 1113, 1117, 1129, 1157, 1161, 3003]\n",
      "frame= 233 [] [1027, 1062, 1071, 1090, 1104, 1113, 1117, 1158, 1161, 1162, 3002]\n",
      "frame= 234 [1072] [1028, 1072, 1091, 1105, 1114, 1117, 1132, 1158, 1161, 3002]\n",
      "frame= 235 [] [1021, 1026, 1071, 1098, 1105, 1114, 1118, 1129, 1157, 1160, 3002]\n",
      "divison: [[0 3 4]]\n",
      "frame= 236 [] [1027, 1063, 1072, 1100, 1107, 1116, 1119, 1136, 1159, 1162, 3002]\n",
      "frame= 237 [] [1021, 1027, 1072, 1100, 1107, 1116, 1119, 1159, 1162, 1164, 3002]\n",
      "frame= 238 [] [1021, 1027, 1071, 1101, 1108, 1117, 1120, 1134, 1160, 1163, 1164]\n",
      "frame= 239 [1145] [1008, 1030, 1074, 1103, 1110, 1122, 1134, 1144, 1161, 1165, 3002]\n",
      "frame= 240 [] [1007, 1030, 1073, 1102, 1109, 1110, 1119, 1123, 1135, 1165, 1167, 1168, 1169]\n"
     ]
    }
   ],
   "source": [
    "trace = Tracker(image[:, -1], max_miss=10, min_hist=3, low_ratio=0.6, high_ratio=1.5)\n",
    "_ = trace()\n",
    "traced_image = trace.to_image()"
   ]
  },
  {
   "cell_type": "code",
   "execution_count": 41,
   "id": "cdeda28a-e5ba-4de8-8e28-004faf38d3c6",
   "metadata": {},
   "outputs": [],
   "source": [
    "annotation = label2rgb(traced_image)"
   ]
  },
  {
   "cell_type": "code",
   "execution_count": 44,
   "id": "f84b5a00-9a41-4c3d-9e0a-58a14200865f",
   "metadata": {},
   "outputs": [],
   "source": [
    "# ani = animate_images(image[200:, -1,:,:])\n",
    "# ani2 = animate_images(annotation[200:])\n",
    "\n",
    "# html1 = HTML(ani.to_jshtml()).data\n",
    "# html2 = HTML(ani2.to_jshtml()).data\n",
    "\n",
    "# # Display the combined animations\n",
    "# HTML(f\"\"\"\n",
    "# <div style=\"display: flex;\">\n",
    "#     <div style=\"flex: 1; margin-right: 10px;\">\n",
    "#         {html1}\n",
    "#     </div>\n",
    "#     <div style=\"flex: 1; margin-left: 10px;\">\n",
    "#         {html2}\n",
    "#     </div>\n",
    "# </div>\n",
    "# \"\"\")"
   ]
  },
  {
   "cell_type": "code",
   "execution_count": 43,
   "id": "065f3ee3-c1c7-44d3-ab04-07fcc5b34c3e",
   "metadata": {},
   "outputs": [],
   "source": [
    "imsave(filename[:-4]+\"_trackv1.tif\", traced_image, dtype=np.uint16, imagej=True)"
   ]
  },
  {
   "cell_type": "code",
   "execution_count": null,
   "id": "c9cc6a8a-f0f6-47ea-8e35-1eb4824ec019",
   "metadata": {},
   "outputs": [],
   "source": []
  },
  {
   "cell_type": "code",
   "execution_count": null,
   "id": "d166e857-c415-4e73-bc62-f384a48580a8",
   "metadata": {},
   "outputs": [],
   "source": []
  },
  {
   "cell_type": "code",
   "execution_count": null,
   "id": "d1ddeed4-3f6c-42b6-bf76-6c29eacc8373",
   "metadata": {},
   "outputs": [],
   "source": []
  },
  {
   "cell_type": "code",
   "execution_count": 24,
   "id": "be645e67-24bd-47ff-85a0-dbfb30fc798c",
   "metadata": {},
   "outputs": [
    {
     "name": "stdout",
     "output_type": "stream",
     "text": [
      "The autoreload extension is already loaded. To reload it, use:\n",
      "  %reload_ext autoreload\n"
     ]
    }
   ],
   "source": [
    "from cellmating.utils import crop_object_to_dict\n",
    "%load_ext autoreload\n",
    "%autoreload 2"
   ]
  },
  {
   "cell_type": "code",
   "execution_count": 25,
   "id": "07cefea2-0e90-4cc3-ba7a-48b246fb6c11",
   "metadata": {},
   "outputs": [],
   "source": [
    "labels = np.unique(traced_image)[1:]\n",
    "labels = labels[labels>2000]"
   ]
  },
  {
   "cell_type": "code",
   "execution_count": 37,
   "id": "de7deed9-7765-420c-962e-a0bb583199bf",
   "metadata": {},
   "outputs": [],
   "source": [
    "import json"
   ]
  },
  {
   "cell_type": "code",
   "execution_count": 26,
   "id": "1df65c4b-0c5e-4a01-8f60-f7dc69057b8f",
   "metadata": {},
   "outputs": [],
   "source": [
    "roi_dict = crop_object_to_dict(traced_image[-1], length=250, labels=labels)\n",
    "with open(filename[:-4]+'.json', 'w') as json_file:\n",
    "    json.dump(roi_dict, json_file, indent=4)"
   ]
  },
  {
   "cell_type": "code",
   "execution_count": 38,
   "id": "40904a95-187a-49b6-9e43-bea70225a613",
   "metadata": {},
   "outputs": [],
   "source": [
    "\n",
    "\n",
    "# # Sample dictionary\n",
    "# data = {\"name\": \"Alice\", \"age\": 30, \"city\": \"New York\"}\n",
    "\n",
    "# Save to a JSON file\n"
   ]
  },
  {
   "cell_type": "code",
   "execution_count": 29,
   "id": "90d56e1e-5587-43eb-bb59-a81735962285",
   "metadata": {},
   "outputs": [
    {
     "name": "stdout",
     "output_type": "stream",
     "text": [
      "{'2189': [770, 1020, 382, 632], '3142': [0, 250, 605, 855], '3165': [135, 385, 604, 854], '3171': [0, 250, 0, 250], '3185': [4, 254, 188, 438], '3186': [0, 250, 0, 250]}\n"
     ]
    }
   ],
   "source": [
    "with open('data.json', 'r') as json_file:\n",
    "    loaded_data = json.load(json_file)\n",
    "print(loaded_data)"
   ]
  },
  {
   "cell_type": "code",
   "execution_count": null,
   "id": "d82c07a0-6b50-42e6-bcf6-27fc98c14f39",
   "metadata": {},
   "outputs": [],
   "source": []
  },
  {
   "cell_type": "code",
   "execution_count": null,
   "id": "46e4a47a-25d4-42b1-987b-da8a133d58f4",
   "metadata": {},
   "outputs": [],
   "source": []
  },
  {
   "cell_type": "code",
   "execution_count": null,
   "id": "bd19e38b-19f6-4104-be6f-890e6a07bf6e",
   "metadata": {},
   "outputs": [],
   "source": []
  },
  {
   "cell_type": "code",
   "execution_count": 28,
   "id": "c78809bc-4140-4759-a42f-ea49178aadc7",
   "metadata": {},
   "outputs": [],
   "source": [
    "import yaml\n",
    "\n",
    "data = {\"name\": \"Alice\", \"age\": 30, \"city\": \"New York\"}\n",
    "with open('data.yml', 'w') as yaml_file:\n",
    "    yaml.dump(roi_dict, yaml_file, default_flow_style=False)"
   ]
  },
  {
   "cell_type": "code",
   "execution_count": null,
   "id": "8537b08b-5f28-486b-be0c-33ab04c63a34",
   "metadata": {},
   "outputs": [],
   "source": []
  },
  {
   "cell_type": "code",
   "execution_count": 71,
   "id": "0a820b6b-5731-4784-9a38-744259afdc73",
   "metadata": {},
   "outputs": [
    {
     "ename": "KeyboardInterrupt",
     "evalue": "",
     "output_type": "error",
     "traceback": [
      "\u001b[0;31m---------------------------------------------------------------------------\u001b[0m",
      "\u001b[0;31mKeyboardInterrupt\u001b[0m                         Traceback (most recent call last)",
      "\u001b[0;32m~/miniconda3/envs/yeast/lib/python3.10/site-packages/tifffile/tifffile.py\u001b[0m in \u001b[0;36m?\u001b[0;34m(file, data, mode, bigtiff, byteorder, imagej, ome, shaped, append, shape, dtype, photometric, planarconfig, extrasamples, volumetric, tile, rowsperstrip, bitspersample, compression, compressionargs, predictor, subsampling, jpegtables, colormap, description, datetime, resolution, resolutionunit, subfiletype, software, metadata, extratags, contiguous, truncate, align, maxworkers, buffersize, returnoffset)\u001b[0m\n\u001b[1;32m   1268\u001b[0m         )\n\u001b[1;32m   1269\u001b[0m \u001b[0;34m\u001b[0m\u001b[0m\n\u001b[0;32m-> 1270\u001b[0;31m     with TiffWriter(\n\u001b[0m\u001b[1;32m   1271\u001b[0m         \u001b[0mfile\u001b[0m\u001b[0;34m,\u001b[0m\u001b[0;34m\u001b[0m\u001b[0;34m\u001b[0m\u001b[0m\n",
      "\u001b[0;32m~/miniconda3/envs/yeast/lib/python3.10/site-packages/tifffile/tifffile.py\u001b[0m in \u001b[0;36m?\u001b[0;34m(***failed resolving arguments***)\u001b[0m\n\u001b[1;32m   3387\u001b[0m                     \u001b[0mfh\u001b[0m\u001b[0;34m.\u001b[0m\u001b[0mwrite_empty\u001b[0m\u001b[0;34m(\u001b[0m\u001b[0mdatasize\u001b[0m\u001b[0;34m)\u001b[0m\u001b[0;34m\u001b[0m\u001b[0;34m\u001b[0m\u001b[0m\n\u001b[1;32m   3388\u001b[0m                 \u001b[0;32melse\u001b[0m\u001b[0;34m:\u001b[0m\u001b[0;34m\u001b[0m\u001b[0;34m\u001b[0m\u001b[0m\n\u001b[0;32m-> 3389\u001b[0;31m                     \u001b[0mfh\u001b[0m\u001b[0;34m.\u001b[0m\u001b[0mwrite_array\u001b[0m\u001b[0;34m(\u001b[0m\u001b[0mdataarray\u001b[0m\u001b[0;34m,\u001b[0m \u001b[0mdatadtype\u001b[0m\u001b[0;34m)\u001b[0m\u001b[0;34m\u001b[0m\u001b[0;34m\u001b[0m\u001b[0m\n\u001b[0m\u001b[1;32m   3390\u001b[0m \u001b[0;34m\u001b[0m\u001b[0m\n",
      "\u001b[0;32m~/miniconda3/envs/yeast/lib/python3.10/site-packages/tifffile/tifffile.py\u001b[0m in \u001b[0;36m?\u001b[0;34m(self, data, dtype)\u001b[0m\n\u001b[1;32m  14604\u001b[0m         \u001b[0;32mtry\u001b[0m\u001b[0;34m:\u001b[0m\u001b[0;34m\u001b[0m\u001b[0;34m\u001b[0m\u001b[0m\n\u001b[1;32m  14605\u001b[0m             \u001b[0mdata\u001b[0m\u001b[0;34m.\u001b[0m\u001b[0mtofile\u001b[0m\u001b[0;34m(\u001b[0m\u001b[0mself\u001b[0m\u001b[0;34m.\u001b[0m\u001b[0m_fh\u001b[0m\u001b[0;34m)\u001b[0m\u001b[0;34m\u001b[0m\u001b[0;34m\u001b[0m\u001b[0m\n\u001b[0;32m> 14606\u001b[0;31m         \u001b[0;32mexcept\u001b[0m \u001b[0mio\u001b[0m\u001b[0;34m.\u001b[0m\u001b[0mUnsupportedOperation\u001b[0m\u001b[0;34m:\u001b[0m\u001b[0;34m\u001b[0m\u001b[0;34m\u001b[0m\u001b[0m\n\u001b[0m\u001b[1;32m  14607\u001b[0m             \u001b[0;31m# numpy cannot write to BytesIO\u001b[0m\u001b[0;34m\u001b[0m\u001b[0;34m\u001b[0m\u001b[0m\n",
      "\u001b[0;31mKeyboardInterrupt\u001b[0m: ",
      "\nDuring handling of the above exception, another exception occurred:\n",
      "\u001b[0;31mKeyboardInterrupt\u001b[0m                         Traceback (most recent call last)",
      "\u001b[0;32m/var/folders/py/kmy_9_hj3791f862dxgf7r_00000gn/T/ipykernel_60201/3242958284.py\u001b[0m in \u001b[0;36m?\u001b[0;34m()\u001b[0m\n\u001b[1;32m      1\u001b[0m \u001b[0mtraced_image_stack\u001b[0m \u001b[0;34m=\u001b[0m \u001b[0mnp\u001b[0m\u001b[0;34m.\u001b[0m\u001b[0mconcatenate\u001b[0m\u001b[0;34m(\u001b[0m\u001b[0;34m(\u001b[0m\u001b[0mimage\u001b[0m\u001b[0;34m,\u001b[0m \u001b[0mtraced_image\u001b[0m\u001b[0;34m[\u001b[0m\u001b[0;34m:\u001b[0m\u001b[0;34m,\u001b[0m\u001b[0;32mNone\u001b[0m\u001b[0;34m,\u001b[0m\u001b[0;34m:\u001b[0m\u001b[0;34m,\u001b[0m\u001b[0;34m:\u001b[0m\u001b[0;34m]\u001b[0m\u001b[0;34m)\u001b[0m\u001b[0;34m,\u001b[0m \u001b[0maxis\u001b[0m\u001b[0;34m=\u001b[0m\u001b[0;36m1\u001b[0m\u001b[0;34m)\u001b[0m\u001b[0;34m\u001b[0m\u001b[0;34m\u001b[0m\u001b[0m\n\u001b[0;32m----> 2\u001b[0;31m \u001b[0mimsave\u001b[0m\u001b[0;34m(\u001b[0m\u001b[0mfilename\u001b[0m\u001b[0;34m[\u001b[0m\u001b[0;34m:\u001b[0m\u001b[0;34m-\u001b[0m\u001b[0;36m4\u001b[0m\u001b[0;34m]\u001b[0m\u001b[0;34m+\u001b[0m\u001b[0;34m\"_track.tif\"\u001b[0m\u001b[0;34m,\u001b[0m \u001b[0mtraced_image_stack\u001b[0m\u001b[0;34m,\u001b[0m \u001b[0mdtype\u001b[0m\u001b[0;34m=\u001b[0m\u001b[0mnp\u001b[0m\u001b[0;34m.\u001b[0m\u001b[0muint16\u001b[0m\u001b[0;34m,\u001b[0m \u001b[0mimagej\u001b[0m\u001b[0;34m=\u001b[0m\u001b[0;32mTrue\u001b[0m\u001b[0;34m)\u001b[0m\u001b[0;34m\u001b[0m\u001b[0;34m\u001b[0m\u001b[0m\n\u001b[0m",
      "\u001b[0;32m~/project/pipeline_data_process_mating_dynamic/../cellmating/io/_io.py\u001b[0m in \u001b[0;36m?\u001b[0;34m(fname, arr, plugin, **plugin_args)\u001b[0m\n\u001b[1;32m    129\u001b[0m         warn(f'{fname} is a boolean image: setting True to 255 and False to 0. '\n\u001b[1;32m    130\u001b[0m              \u001b[0;34m'To silence this warning, please convert the image using '\u001b[0m\u001b[0;34m\u001b[0m\u001b[0;34m\u001b[0m\u001b[0m\n\u001b[1;32m    131\u001b[0m              'img_as_ubyte.', stacklevel=2)\n\u001b[1;32m    132\u001b[0m         \u001b[0marr\u001b[0m \u001b[0;34m=\u001b[0m \u001b[0marr\u001b[0m\u001b[0;34m.\u001b[0m\u001b[0mastype\u001b[0m\u001b[0;34m(\u001b[0m\u001b[0;34m'uint8'\u001b[0m\u001b[0;34m)\u001b[0m \u001b[0;34m*\u001b[0m \u001b[0;36m255\u001b[0m\u001b[0;34m\u001b[0m\u001b[0;34m\u001b[0m\u001b[0m\n\u001b[0;32m--> 133\u001b[0;31m     \u001b[0;32mreturn\u001b[0m \u001b[0mcall_plugin\u001b[0m\u001b[0;34m(\u001b[0m\u001b[0;34m'imsave'\u001b[0m\u001b[0;34m,\u001b[0m \u001b[0mfname\u001b[0m\u001b[0;34m,\u001b[0m \u001b[0marr\u001b[0m\u001b[0;34m,\u001b[0m \u001b[0mplugin\u001b[0m\u001b[0;34m=\u001b[0m\u001b[0mplugin\u001b[0m\u001b[0;34m,\u001b[0m \u001b[0;34m**\u001b[0m\u001b[0mplugin_args\u001b[0m\u001b[0;34m)\u001b[0m\u001b[0;34m\u001b[0m\u001b[0;34m\u001b[0m\u001b[0m\n\u001b[0m",
      "\u001b[0;32m~/project/pipeline_data_process_mating_dynamic/../cellmating/io/manage_plugins.py\u001b[0m in \u001b[0;36m?\u001b[0;34m(kind, *args, **kwargs)\u001b[0m\n\u001b[1;32m    203\u001b[0m             \u001b[0mfunc\u001b[0m \u001b[0;34m=\u001b[0m \u001b[0;34m[\u001b[0m\u001b[0mf\u001b[0m \u001b[0;32mfor\u001b[0m \u001b[0;34m(\u001b[0m\u001b[0mp\u001b[0m\u001b[0;34m,\u001b[0m \u001b[0mf\u001b[0m\u001b[0;34m)\u001b[0m \u001b[0;32min\u001b[0m \u001b[0mplugin_funcs\u001b[0m \u001b[0;32mif\u001b[0m \u001b[0mp\u001b[0m \u001b[0;34m==\u001b[0m \u001b[0mplugin\u001b[0m\u001b[0;34m]\u001b[0m\u001b[0;34m[\u001b[0m\u001b[0;36m0\u001b[0m\u001b[0;34m]\u001b[0m\u001b[0;34m\u001b[0m\u001b[0;34m\u001b[0m\u001b[0m\n\u001b[1;32m    204\u001b[0m         \u001b[0;32mexcept\u001b[0m \u001b[0mIndexError\u001b[0m\u001b[0;34m:\u001b[0m\u001b[0;34m\u001b[0m\u001b[0;34m\u001b[0m\u001b[0m\n\u001b[1;32m    205\u001b[0m             \u001b[0;32mraise\u001b[0m \u001b[0mRuntimeError\u001b[0m\u001b[0;34m(\u001b[0m\u001b[0;34mf'Could not find the plugin \"{plugin}\" for {kind}.'\u001b[0m\u001b[0;34m)\u001b[0m\u001b[0;34m\u001b[0m\u001b[0;34m\u001b[0m\u001b[0m\n\u001b[1;32m    206\u001b[0m \u001b[0;34m\u001b[0m\u001b[0m\n\u001b[0;32m--> 207\u001b[0;31m     \u001b[0;32mreturn\u001b[0m \u001b[0mfunc\u001b[0m\u001b[0;34m(\u001b[0m\u001b[0;34m*\u001b[0m\u001b[0margs\u001b[0m\u001b[0;34m,\u001b[0m \u001b[0;34m**\u001b[0m\u001b[0mkwargs\u001b[0m\u001b[0;34m)\u001b[0m\u001b[0;34m\u001b[0m\u001b[0;34m\u001b[0m\u001b[0m\n\u001b[0m",
      "\u001b[0;32m~/project/pipeline_data_process_mating_dynamic/../cellmating/io/_plugins/tifffile_plugin.py\u001b[0m in \u001b[0;36m?\u001b[0;34m(fname, arr, **kwargs)\u001b[0m\n\u001b[1;32m     43\u001b[0m         \u001b[0mrgb\u001b[0m \u001b[0;34m=\u001b[0m \u001b[0marr\u001b[0m\u001b[0;34m.\u001b[0m\u001b[0mshape\u001b[0m\u001b[0;34m[\u001b[0m\u001b[0;34m-\u001b[0m\u001b[0;36m1\u001b[0m\u001b[0;34m]\u001b[0m \u001b[0;32min\u001b[0m \u001b[0;34m[\u001b[0m\u001b[0;36m3\u001b[0m\u001b[0;34m,\u001b[0m \u001b[0;36m4\u001b[0m\u001b[0;34m]\u001b[0m\u001b[0;34m\u001b[0m\u001b[0;34m\u001b[0m\u001b[0m\n\u001b[1;32m     44\u001b[0m     \u001b[0;32mif\u001b[0m \u001b[0mrgb\u001b[0m \u001b[0;32mand\u001b[0m \u001b[0;34m'photometric'\u001b[0m \u001b[0;32mnot\u001b[0m \u001b[0;32min\u001b[0m \u001b[0mkwargs\u001b[0m\u001b[0;34m:\u001b[0m\u001b[0;34m\u001b[0m\u001b[0;34m\u001b[0m\u001b[0m\n\u001b[1;32m     45\u001b[0m         \u001b[0mkwargs\u001b[0m\u001b[0;34m[\u001b[0m\u001b[0;34m'photometric'\u001b[0m\u001b[0;34m]\u001b[0m \u001b[0;34m=\u001b[0m \u001b[0;34m'RGB'\u001b[0m\u001b[0;34m\u001b[0m\u001b[0;34m\u001b[0m\u001b[0m\n\u001b[1;32m     46\u001b[0m \u001b[0;34m\u001b[0m\u001b[0m\n\u001b[0;32m---> 47\u001b[0;31m     \u001b[0;32mreturn\u001b[0m \u001b[0mtifffile_imwrite\u001b[0m\u001b[0;34m(\u001b[0m\u001b[0mfname\u001b[0m\u001b[0;34m,\u001b[0m \u001b[0marr\u001b[0m\u001b[0;34m,\u001b[0m \u001b[0;34m**\u001b[0m\u001b[0mkwargs\u001b[0m\u001b[0;34m)\u001b[0m\u001b[0;34m\u001b[0m\u001b[0;34m\u001b[0m\u001b[0m\n\u001b[0m",
      "\u001b[0;32m~/miniconda3/envs/yeast/lib/python3.10/site-packages/tifffile/tifffile.py\u001b[0m in \u001b[0;36m?\u001b[0;34m(file, data, mode, bigtiff, byteorder, imagej, ome, shaped, append, shape, dtype, photometric, planarconfig, extrasamples, volumetric, tile, rowsperstrip, bitspersample, compression, compressionargs, predictor, subsampling, jpegtables, colormap, description, datetime, resolution, resolutionunit, subfiletype, software, metadata, extratags, contiguous, truncate, align, maxworkers, buffersize, returnoffset)\u001b[0m\n\u001b[1;32m   1266\u001b[0m             \u001b[0;32mand\u001b[0m \u001b[0;32mnot\u001b[0m \u001b[0mtruncate\u001b[0m\u001b[0;34m\u001b[0m\u001b[0;34m\u001b[0m\u001b[0m\n\u001b[1;32m   1267\u001b[0m             \u001b[0;32mand\u001b[0m \u001b[0mcompression\u001b[0m \u001b[0;32min\u001b[0m \u001b[0;34m{\u001b[0m\u001b[0;32mNone\u001b[0m\u001b[0;34m,\u001b[0m \u001b[0;36m0\u001b[0m\u001b[0;34m,\u001b[0m \u001b[0;36m1\u001b[0m\u001b[0;34m,\u001b[0m \u001b[0;34m'NONE'\u001b[0m\u001b[0;34m,\u001b[0m \u001b[0;34m'none'\u001b[0m\u001b[0;34m}\u001b[0m\u001b[0;34m\u001b[0m\u001b[0;34m\u001b[0m\u001b[0m\n\u001b[1;32m   1268\u001b[0m         )\n\u001b[1;32m   1269\u001b[0m \u001b[0;34m\u001b[0m\u001b[0m\n\u001b[0;32m-> 1270\u001b[0;31m     with TiffWriter(\n\u001b[0m\u001b[1;32m   1271\u001b[0m         \u001b[0mfile\u001b[0m\u001b[0;34m,\u001b[0m\u001b[0;34m\u001b[0m\u001b[0;34m\u001b[0m\u001b[0m\n\u001b[1;32m   1272\u001b[0m         \u001b[0mmode\u001b[0m\u001b[0;34m=\u001b[0m\u001b[0mmode\u001b[0m\u001b[0;34m,\u001b[0m\u001b[0;34m\u001b[0m\u001b[0;34m\u001b[0m\u001b[0m\n\u001b[1;32m   1273\u001b[0m         \u001b[0mbigtiff\u001b[0m\u001b[0;34m=\u001b[0m\u001b[0mbigtiff\u001b[0m\u001b[0;34m,\u001b[0m\u001b[0;34m\u001b[0m\u001b[0;34m\u001b[0m\u001b[0m\n",
      "\u001b[0;32m~/miniconda3/envs/yeast/lib/python3.10/site-packages/tifffile/tifffile.py\u001b[0m in \u001b[0;36m?\u001b[0;34m(self, exc_type, exc_value, traceback)\u001b[0m\n\u001b[1;32m   3972\u001b[0m     \u001b[0;32mdef\u001b[0m \u001b[0m__exit__\u001b[0m\u001b[0;34m(\u001b[0m\u001b[0mself\u001b[0m\u001b[0;34m,\u001b[0m \u001b[0mexc_type\u001b[0m\u001b[0;34m,\u001b[0m \u001b[0mexc_value\u001b[0m\u001b[0;34m,\u001b[0m \u001b[0mtraceback\u001b[0m\u001b[0;34m)\u001b[0m \u001b[0;34m->\u001b[0m \u001b[0;32mNone\u001b[0m\u001b[0;34m:\u001b[0m  \u001b[0;31m# type: ignore\u001b[0m\u001b[0;34m\u001b[0m\u001b[0;34m\u001b[0m\u001b[0m\n\u001b[0;32m-> 3973\u001b[0;31m         \u001b[0mself\u001b[0m\u001b[0;34m.\u001b[0m\u001b[0mclose\u001b[0m\u001b[0;34m(\u001b[0m\u001b[0;34m)\u001b[0m\u001b[0;34m\u001b[0m\u001b[0;34m\u001b[0m\u001b[0m\n\u001b[0m",
      "\u001b[0;32m~/miniconda3/envs/yeast/lib/python3.10/site-packages/tifffile/tifffile.py\u001b[0m in \u001b[0;36m?\u001b[0;34m(self)\u001b[0m\n\u001b[1;32m   3537\u001b[0m             \u001b[0mself\u001b[0m\u001b[0;34m.\u001b[0m\u001b[0m_write_image_description\u001b[0m\u001b[0;34m(\u001b[0m\u001b[0;34m)\u001b[0m\u001b[0;34m\u001b[0m\u001b[0;34m\u001b[0m\u001b[0m\n\u001b[1;32m   3538\u001b[0m         \u001b[0;32mfinally\u001b[0m\u001b[0;34m:\u001b[0m\u001b[0;34m\u001b[0m\u001b[0;34m\u001b[0m\u001b[0m\n\u001b[1;32m   3539\u001b[0m             \u001b[0;32mtry\u001b[0m\u001b[0;34m:\u001b[0m\u001b[0;34m\u001b[0m\u001b[0;34m\u001b[0m\u001b[0m\n\u001b[1;32m   3540\u001b[0m                 \u001b[0mself\u001b[0m\u001b[0;34m.\u001b[0m\u001b[0m_fh\u001b[0m\u001b[0;34m.\u001b[0m\u001b[0mclose\u001b[0m\u001b[0;34m(\u001b[0m\u001b[0;34m)\u001b[0m\u001b[0;34m\u001b[0m\u001b[0;34m\u001b[0m\u001b[0m\n\u001b[0;32m-> 3541\u001b[0;31m             \u001b[0;32mexcept\u001b[0m \u001b[0mException\u001b[0m\u001b[0;34m:\u001b[0m\u001b[0;34m\u001b[0m\u001b[0;34m\u001b[0m\u001b[0m\n\u001b[0m\u001b[1;32m   3542\u001b[0m                 \u001b[0;32mpass\u001b[0m\u001b[0;34m\u001b[0m\u001b[0;34m\u001b[0m\u001b[0m\n",
      "\u001b[0;32m~/miniconda3/envs/yeast/lib/python3.10/site-packages/tifffile/tifffile.py\u001b[0m in \u001b[0;36m?\u001b[0;34m(self)\u001b[0m\n\u001b[1;32m  14323\u001b[0m         \u001b[0;34m\"\"\"Close file handle.\"\"\"\u001b[0m\u001b[0;34m\u001b[0m\u001b[0;34m\u001b[0m\u001b[0m\n\u001b[1;32m  14324\u001b[0m         \u001b[0;32mif\u001b[0m \u001b[0mself\u001b[0m\u001b[0;34m.\u001b[0m\u001b[0m_close\u001b[0m \u001b[0;32mand\u001b[0m \u001b[0mself\u001b[0m\u001b[0;34m.\u001b[0m\u001b[0m_fh\u001b[0m \u001b[0;32mis\u001b[0m \u001b[0;32mnot\u001b[0m \u001b[0;32mNone\u001b[0m\u001b[0;34m:\u001b[0m\u001b[0;34m\u001b[0m\u001b[0;34m\u001b[0m\u001b[0m\n\u001b[1;32m  14325\u001b[0m             \u001b[0;32mtry\u001b[0m\u001b[0;34m:\u001b[0m\u001b[0;34m\u001b[0m\u001b[0;34m\u001b[0m\u001b[0m\n\u001b[1;32m  14326\u001b[0m                 \u001b[0mself\u001b[0m\u001b[0;34m.\u001b[0m\u001b[0m_fh\u001b[0m\u001b[0;34m.\u001b[0m\u001b[0mclose\u001b[0m\u001b[0;34m(\u001b[0m\u001b[0;34m)\u001b[0m\u001b[0;34m\u001b[0m\u001b[0;34m\u001b[0m\u001b[0m\n\u001b[0;32m> 14327\u001b[0;31m             \u001b[0;32mexcept\u001b[0m \u001b[0mException\u001b[0m\u001b[0;34m:\u001b[0m\u001b[0;34m\u001b[0m\u001b[0;34m\u001b[0m\u001b[0m\n\u001b[0m\u001b[1;32m  14328\u001b[0m                 \u001b[0;31m# PermissionError on MacOS. See issue #184\u001b[0m\u001b[0;34m\u001b[0m\u001b[0;34m\u001b[0m\u001b[0m\n\u001b[1;32m  14329\u001b[0m                 \u001b[0;32mpass\u001b[0m\u001b[0;34m\u001b[0m\u001b[0;34m\u001b[0m\u001b[0m\n\u001b[1;32m  14330\u001b[0m             \u001b[0mself\u001b[0m\u001b[0;34m.\u001b[0m\u001b[0m_fh\u001b[0m \u001b[0;34m=\u001b[0m \u001b[0;32mNone\u001b[0m\u001b[0;34m\u001b[0m\u001b[0;34m\u001b[0m\u001b[0m\n",
      "\u001b[0;31mKeyboardInterrupt\u001b[0m: "
     ]
    }
   ],
   "source": [
    "traced_image_stack = np.concatenate((image, traced_image[:,None,:,:]), axis=1)\n",
    "imsave(filename[:-4]+\"_track.tif\", traced_image_stack, dtype=np.uint16, imagej=True)"
   ]
  },
  {
   "cell_type": "code",
   "execution_count": null,
   "id": "a59e0fe2-da03-4389-a7a9-961e9798c1ea",
   "metadata": {},
   "outputs": [],
   "source": []
  },
  {
   "cell_type": "code",
   "execution_count": 14,
   "id": "509b2fb3-d9fb-4068-902e-e688d2e20310",
   "metadata": {},
   "outputs": [],
   "source": [
    "labels = np.unique(traced_image)[1:]\n",
    "labels = labels[labels>2000]"
   ]
  },
  {
   "cell_type": "code",
   "execution_count": 15,
   "id": "f6cbdb43-8694-4ffb-a8c4-f22348573248",
   "metadata": {},
   "outputs": [
    {
     "name": "stdout",
     "output_type": "stream",
     "text": [
      "2189\n",
      "3142\n",
      "3165\n",
      "3171\n",
      "3185\n",
      "3186\n"
     ]
    }
   ],
   "source": [
    "for la in labels:\n",
    "    \n",
    "    print(la)\n",
    "    x_0, x_1, y_0, y_1 = []"
   ]
  },
  {
   "cell_type": "code",
   "execution_count": 54,
   "id": "e0b85fb2-1f53-4566-b30f-0203382c115d",
   "metadata": {},
   "outputs": [],
   "source": [
    "x_all = {}\n",
    "y_all = {}\n",
    "for la in labels:\n",
    "    x, y = np.where(traced_image[-1] == la)\n",
    "    x_all[la] = [x.min(), x.max(), y.min(), y.max()]\n",
    "    # x_all.append([x.min(), x.max()])\n",
    "    # y_all.append([y.min(), y.max()])\n",
    "    "
   ]
  },
  {
   "cell_type": "code",
   "execution_count": 56,
   "id": "a8f827d0-01a0-4358-a167-64547e5adb9d",
   "metadata": {},
   "outputs": [
    {
     "data": {
      "text/plain": [
       "[923, 1002, 484, 531]"
      ]
     },
     "execution_count": 56,
     "metadata": {},
     "output_type": "execute_result"
    }
   ],
   "source": [
    "x_all[2189]"
   ]
  },
  {
   "cell_type": "code",
   "execution_count": 58,
   "id": "ca31ee45-fae9-4a8c-b4ec-30366c2f8100",
   "metadata": {},
   "outputs": [
    {
     "data": {
      "text/plain": [
       "259"
      ]
     },
     "execution_count": 58,
     "metadata": {},
     "output_type": "execute_result"
    }
   ],
   "source": [
    "2*x.min() - (x.max() - x.min())\n",
    "2*x.max() - x.min()"
   ]
  },
  {
   "cell_type": "code",
   "execution_count": null,
   "id": "d7fae799-a67c-404f-a85c-7ad5471f2bf5",
   "metadata": {},
   "outputs": [],
   "source": [
    "import yaml"
   ]
  },
  {
   "cell_type": "code",
   "execution_count": null,
   "id": "a87721bf-6306-4d94-9591-fbca89d8d15e",
   "metadata": {},
   "outputs": [],
   "source": [
    "import yaml\n",
    "f = open('meta.yaml', 'w+')\n",
    "yaml.dump(output_data, f, allow_unicode=True)"
   ]
  }
 ],
 "metadata": {
  "kernelspec": {
   "display_name": "Python 3 (ipykernel)",
   "language": "python",
   "name": "python3"
  },
  "language_info": {
   "codemirror_mode": {
    "name": "ipython",
    "version": 3
   },
   "file_extension": ".py",
   "mimetype": "text/x-python",
   "name": "python",
   "nbconvert_exporter": "python",
   "pygments_lexer": "ipython3",
   "version": "3.10.13"
  }
 },
 "nbformat": 4,
 "nbformat_minor": 5
}
