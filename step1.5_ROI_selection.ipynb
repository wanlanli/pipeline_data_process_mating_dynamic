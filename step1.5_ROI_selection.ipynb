{
 "cells": [
  {
   "cell_type": "code",
   "execution_count": 1,
   "id": "22510f00-3b7b-4a8f-bec5-0d028910dff9",
   "metadata": {},
   "outputs": [],
   "source": [
    "import sys\n",
    "sys.path.append(\"../../\")\n",
    "sys.path.append(\"..\")\n",
    "import matplotlib.pyplot as plt\n",
    "import numpy as np\n",
    "from IPython.display import HTML"
   ]
  },
  {
   "cell_type": "code",
   "execution_count": 94,
   "id": "316da6f4-7dbd-45b7-bc91-5441cd930ece",
   "metadata": {},
   "outputs": [
    {
     "name": "stdout",
     "output_type": "stream",
     "text": [
      "The autoreload extension is already loaded. To reload it, use:\n",
      "  %reload_ext autoreload\n"
     ]
    }
   ],
   "source": [
    "from cellmating.tracking._hausdorf_tracker import Tracker\n",
    "from cellmating.visualize import animate_images\n",
    "from cellmating.utils import file_traverse\n",
    "from cellmating.io import imread, imsave\n",
    "from cellmating.utils import crop_single_object\n",
    "from cellmating.visualize import label2rgb\n",
    "\n",
    "%load_ext autoreload\n",
    "%autoreload 2"
   ]
  },
  {
   "cell_type": "code",
   "execution_count": 136,
   "id": "5c1fd738-84a9-4898-83fa-f52289b95ed7",
   "metadata": {},
   "outputs": [],
   "source": [
    "file_root = \"/media/wd/T7/data/mating_all/20220903_YAV2104xYAV2105_003/tif/\"\n",
    "# file_root = \"/Volumes/T7/data/mating_all/20220903_YAV2104xYAV2105_003/tif/\"\n",
    "file_list = file_traverse(file_root, file_regular=\".*._rigid.tif$\")"
   ]
  },
  {
   "cell_type": "code",
   "execution_count": 214,
   "id": "030fe7a5-9307-4277-a1e3-58171fea99db",
   "metadata": {},
   "outputs": [
    {
     "name": "stdout",
     "output_type": "stream",
     "text": [
      "/media/wd/T7/data/mating_all/20220903_YAV2104xYAV2105_003/tif/YAV2104xYAV2105_005_11_rigid.tif\n",
      "(241, 4, 1020, 1020)\n"
     ]
    }
   ],
   "source": [
    "filename = file_list[10]\n",
    "print(filename)\n",
    "image = imread(filename)\n",
    "image = np.moveaxis(image, -1, 1)\n",
    "print(image.shape)"
   ]
  },
  {
   "cell_type": "code",
   "execution_count": 204,
   "id": "c844ba27-7607-4580-9955-51f5c7dcfe9b",
   "metadata": {
    "scrolled": true
   },
   "outputs": [
    {
     "name": "stdout",
     "output_type": "stream",
     "text": [
      "frame= 1 [1083] [1083]\n",
      "frame= 2 [1083] [1083]\n",
      "frame= 3 [1083] [1083, 1084]\n",
      "frame= 4 [1083, 1108] [1083, 1108]\n",
      "frame= 5 [1005, 1083, 1108] [1083]\n",
      "frame= 6 [1083, 1108] [1082, 1083, 1094, 1110]\n",
      "frame= 7 [1002, 1083, 1108] [1082, 1083, 1096]\n",
      "frame= 8 [1083, 1108] [1082, 1083, 1095]\n",
      "frame= 9 [1108] [1093, 1107]\n",
      "divison: [[1 0 1]]\n",
      "frame= 10 [1003, 1082, 1108] [1083]\n",
      "frame= 11 [1082, 1108] [1082, 1087]\n",
      "divison: [[0 0 1]]\n",
      "frame= 12 [1082, 1098, 1108] [1084, 1101, 1110]\n",
      "frame= 13 [1082, 1098] [1086, 1103]\n",
      "frame= 14 [1082, 1098, 1111] [1084, 1102, 1111]\n",
      "divison: [[0 0 1]]\n",
      "frame= 15 [1082, 1098, 1111] [1085, 1102, 1112, 1113]\n",
      "frame= 16 [1082, 1098] []\n",
      "frame= 17 [1082, 1098] [1104]\n",
      "frame= 18 [1082] [1086, 1087]\n",
      "frame= 19 [1082] []\n",
      "divison: [[0 0 1]]\n",
      "frame= 20 [1103] [1086, 1087, 1104]\n",
      "frame= 21 [] [1086, 1087, 1092]\n",
      "divison: [[1 0 1]\n",
      " [2 2 3]]\n",
      "frame= 22 [1003, 1110] [1088, 1089, 1100]\n",
      "frame= 23 [1003, 1110] [1088, 1089, 1100, 1114]\n",
      "divison: [[0 0 1]]\n",
      "frame= 24 [1110] [1089, 1090, 1095, 1117]\n",
      "frame= 25 [1107, 1110] [1087, 1089, 1099, 1104, 1113]\n",
      "frame= 26 [1110] [1089, 1090]\n",
      "frame= 27 [1002, 1110] [1089, 1091, 1102]\n",
      "divison: [[0 2 3]\n",
      " [1 4 5]]\n",
      "frame= 28 [1110] [1088, 1089, 1102, 1116, 1118]\n",
      "frame= 29 [1110] [1090, 1091, 1118]\n",
      "frame= 30 [1110] [1089, 1091, 1102, 1117]\n",
      "frame= 31 [1110] [1089, 1090, 1118]\n",
      "frame= 32 [] [1091, 1118, 1119]\n",
      "frame= 33 [] [1090, 1118]\n",
      "frame= 34 [] [1091, 1118, 1120]\n",
      "frame= 35 [1002, 1109] [1090, 1109, 1118, 1119]\n",
      "frame= 36 [] [1089, 1090, 1116]\n",
      "frame= 37 [] [1090, 1117]\n",
      "frame= 38 [] [1090, 1103, 1115, 1117]\n",
      "frame= 39 [] [1089, 1090, 1117, 1119]\n",
      "frame= 40 [] [1089, 1090, 1103, 1118]\n",
      "divison: [[0 0 1]]\n",
      "frame= 41 [] [1091, 1118]\n",
      "frame= 42 [1005, 1110] [1006, 1091, 1110, 1120]\n",
      "frame= 43 [] [1090, 1091, 1104]\n",
      "frame= 44 [] [1090, 1103, 1117]\n",
      "divison: [[0 0 1]]\n",
      "frame= 45 [] [1092, 1105]\n",
      "frame= 46 [] [1092, 1104, 1119]\n",
      "frame= 47 [] [1092, 1105]\n",
      "divison: [[0 0 1]]\n",
      "frame= 48 [] [1093, 1106, 1120]\n",
      "frame= 49 [] [1092]\n",
      "frame= 50 [1102, 1110] [1094, 4001]\n",
      "divison: [[0 0 1]]\n",
      "fusion: [[0 1 2]]\n",
      "frame= 51 [] [1097, 1107, 1120]\n",
      "divison: [[0 0 1]]\n",
      "frame= 52 [1101] [1099, 1102, 1109, 1113]\n",
      "divison: [[0 1 2]]\n",
      "frame= 53 [] [1098, 1124]\n",
      "frame= 54 [] [1098]\n",
      "fusion: [[0 1 0]]\n",
      "frame= 55 [] [1091, 1096, 1107, 1122]\n",
      "frame= 56 [1110, 1116, 1114] [1098, 1115, 1123]\n",
      "frame= 57 [] [1099, 1110]\n",
      "frame= 58 [1110, 1118, 1116] [1098, 1108, 1116, 1123]\n",
      "frame= 59 [] [1098, 1108, 1123]\n",
      "frame= 60 [] [1093, 1121, 2002]\n",
      "divison: [[0 0 1]]\n",
      "frame= 61 [] [1098, 1108]\n",
      "frame= 62 [] [1098, 1109, 1123]\n",
      "frame= 63 [] [1098, 1108]\n",
      "divison: [[0 0 1]]\n",
      "frame= 64 [] [1098, 1109, 1124]\n",
      "frame= 65 [] [1098, 1108]\n",
      "frame= 66 [] [1098, 1108]\n",
      "frame= 67 [] [1099, 1109]\n",
      "frame= 68 [] [1099, 1109, 1124]\n",
      "frame= 69 [] [1098, 1108, 1123]\n",
      "frame= 70 [] [1108, 1123]\n",
      "frame= 71 [] [1099, 1109, 1123]\n",
      "frame= 72 [] [1099, 1109]\n",
      "frame= 73 [1087] [1090, 1101, 1111, 1125]\n",
      "frame= 74 [] [1100, 1126]\n",
      "frame= 75 [] [1094, 1099, 1126]\n",
      "frame= 76 [] [1097]\n",
      "frame= 77 [] [1100, 1126, 1127]\n",
      "frame= 78 [] [1100, 1126]\n",
      "frame= 79 [] [1099, 1109, 1124, 1125]\n",
      "frame= 80 [] [1099, 1109]\n",
      "frame= 81 [] [1099, 1124, 2001]\n",
      "frame= 82 [1006] [1098, 1121, 2001]\n",
      "fusion: [[0 1 1]]\n",
      "frame= 83 [] [1100, 1123, 2001]\n",
      "frame= 84 [] [1099, 1109]\n",
      "divison: [[0 0 1]]\n",
      "frame= 85 [] [1100, 1110, 1125]\n",
      "frame= 86 [] [1101, 1111, 1126, 1127]\n",
      "frame= 87 [] [1110]\n",
      "divison: [[0 1 2]]\n",
      "frame= 88 [] [1110, 1125]\n",
      "frame= 89 [1002] [1100, 1110, 1126]\n",
      "frame= 90 [] [1101, 1111]\n",
      "divison: [[0 0 1]]\n",
      "frame= 91 [] [1102, 1113]\n",
      "frame= 92 [1127] [1009, 1015, 1102, 1113, 1128]\n",
      "frame= 93 [] [1014, 1102, 1129]\n",
      "frame= 94 [] [1014, 1096, 1102]\n",
      "frame= 95 [] [1015, 1101, 1130]\n",
      "frame= 96 [] [1016, 1104, 1116, 1131, 1132]\n",
      "divison: [[0 1 2]]\n",
      "frame= 97 [] [1016, 1105, 1117]\n",
      "frame= 98 [] [1016, 1104, 1115, 1132]\n",
      "frame= 99 [] [1016, 1104, 1129, 2001]\n",
      "frame= 100 [] [1016, 1105, 1129, 2001]\n",
      "frame= 101 [1006] [1007, 1016, 1104, 1115, 1128, 1130, 1131]\n",
      "frame= 102 [] [1016, 1104, 1116, 1131]\n",
      "frame= 103 [1004] [1015, 1104, 1116, 1133]\n",
      "frame= 104 [1128] [1015, 1104, 1117, 1128, 1130]\n",
      "frame= 105 [1002] [1015, 1104, 1116]\n",
      "divison: [[1 1 2]]\n",
      "frame= 106 [1002] [1015, 1117]\n",
      "divison: [[0 0 1]]\n",
      "frame= 107 [] [1016, 1105, 1119, 1132]\n",
      "frame= 108 [] [1015, 1104, 1116, 1129]\n",
      "frame= 109 [] [1015, 1103, 1116, 1128]\n",
      "frame= 110 [] [1016, 1104, 1118, 1131]\n",
      "frame= 111 [] [1016, 1103, 1121, 1133, 1134]\n",
      "frame= 112 [] [1016, 1106, 1120]\n",
      "divison: [[0 1 2]]\n",
      "frame= 113 [] [1016, 1108, 1121]\n",
      "frame= 114 [] [1017, 1107, 1121]\n",
      "divison: [[0 1 2]\n",
      " [1 3 4]]\n",
      "frame= 115 [] [1017, 1110, 1123, 1137]\n",
      "frame= 116 [1004, 1006] [1009, 1016, 1108, 1121, 1135]\n",
      "frame= 117 [1004] [1016, 1108, 1120, 1135]\n",
      "fusion: [[1 2 1]]\n",
      "frame= 118 [1004] [1016, 1107, 1119, 1133]\n",
      "frame= 119 [1004] [1016, 1107, 1120]\n",
      "frame= 120 [1004] [1016, 1108, 1121, 1135]\n",
      "divison: [[1 1 2]]\n",
      "frame= 121 [1004] [1016, 1110, 1124, 1137, 1138]\n",
      "frame= 122 [1004] [1016, 1110, 1122, 1136]\n",
      "frame= 123 [] [1017, 1111, 1123, 1138]\n",
      "frame= 124 [1004] [1016, 1110, 1121]\n",
      "frame= 125 [1004] [1016, 1110, 1123, 1137]\n",
      "divison: [[1 1 2]\n",
      " [2 3 4]]\n",
      "frame= 126 [1004] [1016, 1112, 1124, 1138]\n",
      "frame= 127 [1004] [1003, 1016, 1111, 1124, 1138]\n",
      "divison: [[1 2 3]\n",
      " [2 4 5]]\n",
      "frame= 128 [1004] [1003, 1016, 1112, 1125]\n",
      "frame= 129 [] [1001, 1016, 1114, 1124, 1140]\n",
      "divison: [[1 1 2]]\n",
      "frame= 130 [1002] [1003, 1017, 1114, 1126]\n",
      "frame= 131 [1002] [1001, 1018, 1116, 1127, 1142]\n",
      "divison: [[0 2 3]]\n",
      "frame= 132 [1002] [1001, 1017, 1108, 1116, 1127, 1142]\n",
      "frame= 133 [1002] [1003, 1016, 1107, 1115, 1126]\n",
      "divison: [[0 2 4]]\n",
      "frame= 134 [1002] [1001, 1018, 1116, 1130, 1141]\n",
      "frame= 135 [1002] [1001, 1018, 1115, 1128, 1143]\n",
      "divison: [[1 2 3]]\n",
      "frame= 136 [1004, 1002] [1001, 1017, 1116, 1129, 1144]\n",
      "frame= 137 [1002] [1003, 1018, 1117, 1131, 1145, 1146]\n",
      "frame= 138 [1004, 1002] [1003, 1017, 1115, 1129, 1143]\n",
      "frame= 139 [1004, 1002] [1001, 1017, 1116, 1130, 1144, 1145]\n",
      "divison: [[1 1 2]]\n",
      "frame= 140 [1004, 1002] [1003, 1018, 1117, 1131, 1142, 1145]\n",
      "frame= 141 [1004] [1001, 1019, 1117, 1133, 1146]\n",
      "frame= 142 [1004] [1001, 1019, 1117, 1131, 1145, 1146]\n",
      "frame= 143 [1004] [1001, 1019, 1118, 1132, 1146]\n",
      "frame= 144 [] [1001, 1020, 1119, 1133, 1147]\n",
      "frame= 145 [1004, 1145] [1001, 1019, 1118, 1132, 1143]\n",
      "frame= 146 [1004] [1001, 1019, 1118, 1132, 1146]\n",
      "frame= 147 [1004] [1001, 1018, 1117, 1131, 1145]\n",
      "frame= 148 [1004] [1001, 1019, 1112, 1118, 1132, 1146]\n",
      "frame= 149 [1004] [1001, 1019, 1118, 1133, 1146]\n",
      "divison: [[2 2 5]]\n",
      "fusion: [[0 1 2]]\n",
      "frame= 150 [] [1001, 1018, 1141]\n",
      "frame= 151 [1093] [1001, 1019, 1094, 1118, 1132, 1146]\n",
      "frame= 152 [1145] [1019, 1118, 1132]\n",
      "frame= 153 [1087, 1081] [1001, 1019, 1116, 1130, 1144, 3001]\n",
      "divison: [[0 4 5]]\n",
      "frame= 154 [1143] [1004, 1021, 1118, 1131]\n",
      "frame= 155 [1005, 3001, 2001] [1004, 1020, 1110, 1117, 1131, 1145, 3001]\n",
      "frame= 156 [1005, 3001, 2001] [1001, 1019, 1116, 1131, 1142, 1143, 3001]\n",
      "frame= 157 [3001, 2001] [1020, 1117, 1131, 1143, 3001]\n",
      "fusion: [[1 3 2]\n",
      " [0 2 5]]\n",
      "frame= 158 [] [1001, 1020, 1116, 1130]\n",
      "frame= 159 [] [1001, 1019, 1116, 1131]\n",
      "frame= 160 [1002, 1048] [1001, 1019, 1115, 1130, 1141, 1142]\n",
      "frame= 161 [1002, 3001, 2001, 3001] [1001, 1019, 1115, 1129, 1141, 3001, 3002]\n",
      "frame= 162 [1002, 2001] [1001, 1019, 1114, 1128, 3002]\n",
      "frame= 163 [1002] [1001, 1019, 1115, 1129, 1141]\n",
      "frame= 164 [1002] [1019, 1114, 1129]\n",
      "frame= 165 [1002] [1019, 1114, 1129, 1140]\n",
      "frame= 166 [1002] [1001, 1019, 1115, 1128, 1140]\n",
      "frame= 167 [] [1001, 1020, 1116, 1130, 1141]\n",
      "frame= 168 [] [1020, 1115, 1129, 1141]\n",
      "frame= 169 [] [1001, 1020, 1115, 1129, 1141]\n",
      "frame= 170 [1004] [1001, 1019, 1113, 1127, 1139]\n",
      "frame= 171 [] [1001, 1019, 1114, 1128, 1140]\n",
      "frame= 172 [] [1004, 1021, 1113, 1131, 1142]\n",
      "frame= 173 [1005] [1018, 1106, 1112, 1127, 2002]\n",
      "frame= 174 [1005] [1001, 1018, 1106, 1112, 1127]\n",
      "frame= 175 [] [1020, 1114, 1128, 1140]\n",
      "frame= 176 [1004] [1001, 1019, 1114, 1128, 1138, 1140]\n",
      "frame= 177 [1090] [1001, 1019, 1090, 1114, 1129, 1138]\n",
      "frame= 178 [] [1001, 1019, 1114, 1128]\n",
      "frame= 179 [] [1001, 1020, 1114, 1122, 1139]\n",
      "frame= 180 [1004, 1009] [1018, 1112, 1126, 1136]\n",
      "frame= 181 [1048] [1001, 1020, 1114, 1128]\n",
      "frame= 182 [] [1001, 1018, 1113, 1127]\n",
      "frame= 183 [] [1001, 1018, 1113, 1127, 2002]\n",
      "frame= 184 [] [1001, 1019, 1114, 1128, 1140]\n",
      "frame= 185 [] [1001, 1020, 1115, 1129, 1141]\n",
      "frame= 186 [] [1001, 1019, 1113, 1128, 1139]\n",
      "frame= 187 [] [1001, 1019, 1114, 1129]\n",
      "frame= 188 [1002] [1001, 1019, 1114, 1128, 1140]\n",
      "frame= 189 [1002] [1001, 1019, 1114, 1128]\n",
      "frame= 190 [] [1001, 1020, 1115, 1130]\n",
      "frame= 191 [1123] [1001, 1020, 1115, 1118, 1139]\n",
      "frame= 192 [1004] [1001, 1018, 1113, 1126]\n",
      "frame= 193 [1004] [1001, 1019, 1114, 1128]\n",
      "frame= 194 [] [1004, 1021, 1116, 1131]\n",
      "frame= 195 [1005, 1141] [1001, 1019, 1107, 1113, 1129, 2002]\n",
      "frame= 196 [1005, 1135, 1133] [1004, 1020, 1114, 1128, 1132]\n",
      "frame= 197 [1121] [1020, 1115, 1120]\n",
      "frame= 198 [1004, 1128] [1001, 1019, 1114, 1128, 1129, 1140]\n",
      "frame= 199 [1004] [1001, 1019, 1114, 1128]\n",
      "frame= 200 [1004, 1129] [1001, 1019, 1114, 1128, 1129]\n",
      "frame= 201 [] [1001, 1019, 1114, 1128]\n",
      "frame= 202 [1002] [1001, 1019, 1113, 1115, 1127]\n",
      "frame= 203 [] [1001, 1019, 1108, 1111, 1128, 1141]\n",
      "frame= 204 [1002] [1001, 1019, 1114, 1128]\n",
      "frame= 205 [] [1001, 1019, 1114, 1128]\n",
      "frame= 206 [1002] [1001, 1019, 1114, 1128]\n",
      "frame= 207 [] [1001, 1020, 1114, 1127]\n",
      "divison: [[1 2 3]]\n",
      "frame= 208 [1004] [1001, 1019, 1115, 1129]\n",
      "frame= 209 [2002] [1001, 1020, 1116, 1130]\n",
      "frame= 210 [1005, 2002] [1001, 1018, 1113, 1128]\n",
      "frame= 211 [2002, 1090] [1001, 1020, 1091, 1116, 1130]\n",
      "frame= 212 [1004] [1001, 1019, 1115, 1130]\n",
      "frame= 213 [2002] [1003, 1018, 1113, 1128]\n",
      "frame= 214 [1002, 2002] [1001, 1019, 1115, 1129, 1141]\n",
      "frame= 215 [1002, 2002] [1001, 1018, 1114, 1127, 1139, 2002]\n",
      "frame= 216 [1002] [1001, 1018, 1114, 1127]\n",
      "frame= 217 [1137] [1004, 1020, 1113, 1129]\n",
      "frame= 218 [1005, 1137] [1001, 1019, 1114, 1129]\n",
      "divison: [[2 5 6]]\n",
      "frame= 219 [1005, 1137] [1001, 1018, 1107, 1114, 1128]\n",
      "frame= 220 [] [1004, 1020, 1116, 1130]\n",
      "frame= 221 [1139] [1019, 1115, 1130, 1142]\n",
      "frame= 222 [1139] [1001, 1015, 1019, 1115, 1130, 1142]\n",
      "frame= 223 [1005, 1139] [1001, 1019, 1115, 1129, 1138]\n",
      "frame= 224 [] [1001, 1020, 1116, 1130]\n",
      "frame= 225 [1005, 2002] [1019, 1115, 1129]\n",
      "frame= 226 [1005, 2002] [1001, 1019, 1115, 1130]\n",
      "frame= 227 [1005, 2002] [1001, 1019, 1115, 1129]\n",
      "divison: [[1 1 2]]\n",
      "frame= 228 [1005, 2002] [1001, 1020, 1116, 1130]\n",
      "frame= 229 [1005, 2002] [1001, 1020, 1116, 1130]\n",
      "divison: [[1 2 3]]\n",
      "frame= 230 [1005, 2002] [1001, 1020, 1117, 1132]\n",
      "frame= 231 [1005, 2002] [1001, 1019, 1115, 1129]\n",
      "frame= 232 [1005, 2002] [1001, 1020, 1116, 1131]\n",
      "frame= 233 [1005, 2002] [1001, 1020, 1116, 1131]\n",
      "frame= 234 [] [1001, 1020, 1116, 1130]\n",
      "divison: [[1 2 3]]\n",
      "frame= 235 [1002, 1138] [1001, 1019]\n",
      "frame= 236 [1138] [1020, 1130, 1141]\n",
      "frame= 237 [1138] [1001, 1020, 1131]\n",
      "frame= 238 [] [1020, 1109, 1130, 1140]\n",
      "frame= 239 [1002, 2002] [1020, 1130, 1140]\n",
      "frame= 240 [2002, 1005] [1001, 1019, 1108, 1129]\n"
     ]
    }
   ],
   "source": [
    "trace = Tracker(image[:, -1], max_miss=10, min_hist=3, low_ratio=0.5, high_ratio=1, is_acc=False)\n",
    "_ = trace()\n",
    "traced_image = trace.to_image()"
   ]
  },
  {
   "cell_type": "code",
   "execution_count": 205,
   "id": "e60e4bf6-fa5a-4445-a0b3-9f89b4b4f45e",
   "metadata": {},
   "outputs": [],
   "source": [
    "imsave(filename[:-4]+\"_trackv1.tif\", traced_image, dtype=np.uint16, imagej=True)"
   ]
  },
  {
   "cell_type": "code",
   "execution_count": 169,
   "id": "cdeda28a-e5ba-4de8-8e28-004faf38d3c6",
   "metadata": {},
   "outputs": [],
   "source": [
    "# annotation = label2rgb(traced_image)"
   ]
  },
  {
   "cell_type": "code",
   "execution_count": 170,
   "id": "f84b5a00-9a41-4c3d-9e0a-58a14200865f",
   "metadata": {},
   "outputs": [],
   "source": [
    "# ani = animate_images(image[200:, -1,:,:])\n",
    "# ani2 = animate_images(annotation[200:])\n",
    "\n",
    "# html1 = HTML(ani.to_jshtml()).data\n",
    "# html2 = HTML(ani2.to_jshtml()).data\n",
    "\n",
    "# # Display the combined animations\n",
    "# HTML(f\"\"\"\n",
    "# <div style=\"display: flex;\">\n",
    "#     <div style=\"flex: 1; margin-right: 10px;\">\n",
    "#         {html1}\n",
    "#     </div>\n",
    "#     <div style=\"flex: 1; margin-left: 10px;\">\n",
    "#         {html2}\n",
    "#     </div>\n",
    "# </div>\n",
    "# \"\"\")"
   ]
  },
  {
   "cell_type": "code",
   "execution_count": 9,
   "id": "065f3ee3-c1c7-44d3-ab04-07fcc5b34c3e",
   "metadata": {},
   "outputs": [],
   "source": []
  },
  {
   "cell_type": "code",
   "execution_count": null,
   "id": "c9cc6a8a-f0f6-47ea-8e35-1eb4824ec019",
   "metadata": {},
   "outputs": [],
   "source": []
  },
  {
   "cell_type": "code",
   "execution_count": null,
   "id": "d166e857-c415-4e73-bc62-f384a48580a8",
   "metadata": {},
   "outputs": [],
   "source": []
  },
  {
   "cell_type": "code",
   "execution_count": null,
   "id": "d1ddeed4-3f6c-42b6-bf76-6c29eacc8373",
   "metadata": {},
   "outputs": [],
   "source": []
  },
  {
   "cell_type": "code",
   "execution_count": 206,
   "id": "be645e67-24bd-47ff-85a0-dbfb30fc798c",
   "metadata": {},
   "outputs": [
    {
     "name": "stdout",
     "output_type": "stream",
     "text": [
      "The autoreload extension is already loaded. To reload it, use:\n",
      "  %reload_ext autoreload\n"
     ]
    }
   ],
   "source": [
    "from cellmating.utils import crop_object_to_dict\n",
    "import json\n",
    "%load_ext autoreload\n",
    "%autoreload 2"
   ]
  },
  {
   "cell_type": "code",
   "execution_count": 207,
   "id": "07cefea2-0e90-4cc3-ba7a-48b246fb6c11",
   "metadata": {},
   "outputs": [],
   "source": [
    "labels = np.unique(traced_image[-1])[1:]\n",
    "labels = labels[labels>2000]"
   ]
  },
  {
   "cell_type": "code",
   "execution_count": 208,
   "id": "de7deed9-7765-420c-962e-a0bb583199bf",
   "metadata": {},
   "outputs": [
    {
     "data": {
      "text/plain": [
       "array([2179, 3184, 3185], dtype=uint16)"
      ]
     },
     "execution_count": 208,
     "metadata": {},
     "output_type": "execute_result"
    }
   ],
   "source": [
    "labels"
   ]
  },
  {
   "cell_type": "code",
   "execution_count": 209,
   "id": "1df65c4b-0c5e-4a01-8f60-f7dc69057b8f",
   "metadata": {},
   "outputs": [],
   "source": [
    "roi_dict = crop_object_to_dict(traced_image[-1], length=250, labels=labels)\n",
    "with open(filename[:-4]+'.json', 'w') as json_file:\n",
    "    json.dump(roi_dict, json_file, indent=4)"
   ]
  },
  {
   "cell_type": "code",
   "execution_count": 213,
   "id": "90d56e1e-5587-43eb-bb59-a81735962285",
   "metadata": {},
   "outputs": [],
   "source": [
    "# with open('data.json', 'r') as json_file:\n",
    "#     loaded_data = json.load(json_file)\n",
    "# print(loaded_data)"
   ]
  },
  {
   "cell_type": "code",
   "execution_count": 212,
   "id": "0a820b6b-5731-4784-9a38-744259afdc73",
   "metadata": {},
   "outputs": [],
   "source": [
    "traced_image_stack = np.concatenate((image, traced_image[:,None,:,:]), axis=1)\n",
    "imsave(filename[:-4]+\"_track.tif\", traced_image_stack, dtype=np.uint16, imagej=True)"
   ]
  },
  {
   "cell_type": "code",
   "execution_count": null,
   "id": "a59e0fe2-da03-4389-a7a9-961e9798c1ea",
   "metadata": {},
   "outputs": [],
   "source": []
  },
  {
   "cell_type": "code",
   "execution_count": 14,
   "id": "509b2fb3-d9fb-4068-902e-e688d2e20310",
   "metadata": {},
   "outputs": [],
   "source": [
    "labels = np.unique(traced_image)[1:]\n",
    "labels = labels[labels>2000]"
   ]
  },
  {
   "cell_type": "code",
   "execution_count": 15,
   "id": "f6cbdb43-8694-4ffb-a8c4-f22348573248",
   "metadata": {},
   "outputs": [
    {
     "name": "stdout",
     "output_type": "stream",
     "text": [
      "2189\n",
      "3142\n",
      "3165\n",
      "3171\n",
      "3185\n",
      "3186\n"
     ]
    }
   ],
   "source": [
    "for la in labels:\n",
    "    \n",
    "    print(la)\n",
    "    x_0, x_1, y_0, y_1 = []"
   ]
  },
  {
   "cell_type": "code",
   "execution_count": 54,
   "id": "e0b85fb2-1f53-4566-b30f-0203382c115d",
   "metadata": {},
   "outputs": [],
   "source": [
    "x_all = {}\n",
    "y_all = {}\n",
    "for la in labels:\n",
    "    x, y = np.where(traced_image[-1] == la)\n",
    "    x_all[la] = [x.min(), x.max(), y.min(), y.max()]\n",
    "    # x_all.append([x.min(), x.max()])\n",
    "    # y_all.append([y.min(), y.max()])\n",
    "    "
   ]
  },
  {
   "cell_type": "code",
   "execution_count": 56,
   "id": "a8f827d0-01a0-4358-a167-64547e5adb9d",
   "metadata": {},
   "outputs": [
    {
     "data": {
      "text/plain": [
       "[923, 1002, 484, 531]"
      ]
     },
     "execution_count": 56,
     "metadata": {},
     "output_type": "execute_result"
    }
   ],
   "source": [
    "x_all[2189]"
   ]
  },
  {
   "cell_type": "code",
   "execution_count": 58,
   "id": "ca31ee45-fae9-4a8c-b4ec-30366c2f8100",
   "metadata": {},
   "outputs": [
    {
     "data": {
      "text/plain": [
       "259"
      ]
     },
     "execution_count": 58,
     "metadata": {},
     "output_type": "execute_result"
    }
   ],
   "source": [
    "2*x.min() - (x.max() - x.min())\n",
    "2*x.max() - x.min()"
   ]
  },
  {
   "cell_type": "code",
   "execution_count": null,
   "id": "d7fae799-a67c-404f-a85c-7ad5471f2bf5",
   "metadata": {},
   "outputs": [],
   "source": [
    "import yaml"
   ]
  },
  {
   "cell_type": "code",
   "execution_count": null,
   "id": "a87721bf-6306-4d94-9591-fbca89d8d15e",
   "metadata": {},
   "outputs": [],
   "source": [
    "import yaml\n",
    "f = open('meta.yaml', 'w+')\n",
    "yaml.dump(output_data, f, allow_unicode=True)"
   ]
  }
 ],
 "metadata": {
  "kernelspec": {
   "display_name": "Python 3 (ipykernel)",
   "language": "python",
   "name": "python3"
  },
  "language_info": {
   "codemirror_mode": {
    "name": "ipython",
    "version": 3
   },
   "file_extension": ".py",
   "mimetype": "text/x-python",
   "name": "python",
   "nbconvert_exporter": "python",
   "pygments_lexer": "ipython3",
   "version": "3.10.14"
  }
 },
 "nbformat": 4,
 "nbformat_minor": 5
}
