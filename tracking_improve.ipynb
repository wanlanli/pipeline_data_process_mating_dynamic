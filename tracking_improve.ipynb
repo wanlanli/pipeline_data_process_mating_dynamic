{
 "cells": [
  {
   "cell_type": "code",
   "execution_count": 1,
   "id": "e8994453-dc27-4949-a55f-ad6336611ac3",
   "metadata": {
    "tags": []
   },
   "outputs": [],
   "source": [
    "import sys\n",
    "sys.path.append(\"../\")\n",
    "import os\n",
    "import numpy as np\n",
    "import networkx as nx\n",
    "import matplotlib.pyplot as plt\n",
    "from cellmating.mating import Mating\n",
    "from cellmating.utils import file_traverse, dump_to_pkl\n",
    "from cellmating.io import imread, imsave\n",
    "from cellmating.mating import Mating\n",
    "from script_wlli.for_check_result_utils import draw_subgraph"
   ]
  },
  {
   "cell_type": "code",
   "execution_count": 3,
   "id": "ce2edbb4-2cdf-4377-be26-f25ea3764eef",
   "metadata": {
    "tags": []
   },
   "outputs": [
    {
     "name": "stdout",
     "output_type": "stream",
     "text": [
      "totle images:  131\n"
     ]
    }
   ],
   "source": [
    "root = \"/Volumes/T7/data/mating_all/20220903_YAV2104xYAV2105_003/\"\n",
    "file_list = file_traverse(root, file_regular=r\".*/crop/.*.tif\")\n",
    "print(\"totle images: \", len(file_list))"
   ]
  },
  {
   "cell_type": "code",
   "execution_count": 4,
   "id": "628f80e6-92b9-4959-8024-7a417ad2a958",
   "metadata": {
    "tags": []
   },
   "outputs": [
    {
     "data": {
      "text/plain": [
       "'/Volumes/T7/data/mating_all/20220903_YAV2104xYAV2105_003/crop/YAV2104xYAV2105_005_04_rigid_003006.tif'"
      ]
     },
     "execution_count": 4,
     "metadata": {},
     "output_type": "execute_result"
    }
   ],
   "source": [
    "file_name = file_list[12]\n",
    "image = imread(file_name)\n",
    "file_name"
   ]
  },
  {
   "cell_type": "code",
   "execution_count": 87,
   "id": "f85e10fe-2e84-4e71-b74e-bbfc97cbcf88",
   "metadata": {},
   "outputs": [
    {
     "name": "stdout",
     "output_type": "stream",
     "text": [
      "The autoreload extension is already loaded. To reload it, use:\n",
      "  %reload_ext autoreload\n"
     ]
    }
   ],
   "source": [
    "# from cellmating.tracking._ioutrack import Tracker\n",
    "# from cellmating.tracking._iou_tracker import Tracker\n",
    "from cellmating.tracking._hausdorf_tracker import Tracker\n",
    "%load_ext autoreload\n",
    "%autoreload 2"
   ]
  },
  {
   "cell_type": "code",
   "execution_count": 88,
   "id": "51d3234c-e185-4639-bebb-2389ae465ce9",
   "metadata": {
    "scrolled": true,
    "tags": []
   },
   "outputs": [
    {
     "name": "stdout",
     "output_type": "stream",
     "text": [
      "frame= 1 [] [18]\n",
      "fusion: [[0 1 1]\n",
      " [2 3 2]]\n",
      "frame= 2 [17] [14]\n",
      "frame= 3 [17] []\n",
      "frame= 4 [17] [16]\n",
      "frame= 5 [16, 17] []\n",
      "frame= 6 [16, 17] []\n",
      "frame= 7 [17] []\n",
      "frame= 8 [16, 17] []\n",
      "frame= 9 [16, 17] []\n",
      "frame= 10 [16, 17] []\n",
      "frame= 11 [16, 17] []\n",
      "frame= 12 [16, 17] []\n",
      "frame= 13 [16, 17] []\n",
      "frame= 14 [16, 17] []\n",
      "frame= 17 [17] [16]\n",
      "frame= 18 [17] [16]\n",
      "frame= 19 [17] []\n",
      "divison: [[0 0 1]]\n",
      "frame= 21 [17, 21, 22] [18]\n",
      "frame= 22 [17, 21, 22] [15]\n",
      "frame= 23 [16, 17, 20, 21] []\n",
      "frame= 24 [16, 17, 20, 21] []\n",
      "frame= 25 [16, 17, 20, 21] []\n",
      "frame= 26 [17, 20, 21] []\n",
      "divison: [[0 0 1]]\n",
      "frame= 27 [16, 17, 20, 21] []\n",
      "frame= 28 [16, 17, 20, 21] []\n",
      "frame= 29 [16, 17, 18, 20, 21] []\n",
      "frame= 30 [16, 17, 18, 20, 21] []\n",
      "frame= 31 [16, 17, 18, 20, 21] []\n",
      "frame= 32 [16, 17, 18, 20, 21] []\n",
      "frame= 33 [16, 17, 18, 20, 21] []\n",
      "frame= 34 [16] [16]\n",
      "frame= 36 [6, 12, 20] [16, 17]\n",
      "frame= 37 [16] [14]\n",
      "frame= 38 [17, 20, 21] []\n",
      "frame= 39 [16] []\n",
      "frame= 40 [17, 20, 21] []\n",
      "fusion: [[0 2 0]]\n",
      "frame= 41 [17, 20, 21] []\n",
      "frame= 42 [15, 18, 19] []\n",
      "frame= 43 [14, 15, 16, 18, 19, 22] []\n",
      "frame= 44 [14, 15, 16, 18, 19, 22] []\n",
      "frame= 45 [14, 15, 16, 18, 19, 22] []\n",
      "frame= 46 [14, 15, 16, 18, 19, 22] []\n",
      "frame= 47 [13, 14, 15, 17, 18, 21] []\n",
      "frame= 48 [13, 14, 15, 17, 18, 21] []\n",
      "frame= 49 [13, 14, 15, 16, 17, 18, 21] [13, 14]\n",
      "frame= 50 [13, 14, 15, 17, 18, 21] []\n",
      "frame= 51 [13, 14, 15, 17, 18, 21] []\n",
      "frame= 52 [14, 17, 18] []\n",
      "frame= 53 [14, 17, 18] []\n",
      "frame= 54 [14, 17, 18] []\n",
      "divison: [[1 0 1]]\n",
      "frame= 55 [14, 17, 18] []\n",
      "frame= 56 [14, 17, 18] []\n",
      "frame= 57 [14, 17, 18] []\n",
      "frame= 58 [13, 14, 15, 17, 20] []\n",
      "frame= 59 [13, 14, 15, 17, 20] []\n",
      "frame= 62 [13, 17] []\n",
      "frame= 63 [13, 17] []\n",
      "frame= 64 [13, 17] []\n",
      "frame= 65 [13, 17] []\n",
      "frame= 66 [13, 17] []\n",
      "frame= 67 [13, 17] []\n",
      "frame= 68 [13, 17] []\n",
      "frame= 69 [13, 17] []\n",
      "frame= 70 [13, 17] []\n",
      "fusion: [[0 1 0]]\n",
      "frame= 73 [13, 17, 20] []\n",
      "divison: [[0 0 1]]\n",
      "frame= 74 [13, 17, 20] [17]\n",
      "frame= 75 [13, 17, 20] [17]\n",
      "frame= 76 [13, 17, 18] [16]\n",
      "frame= 77 [13, 17, 18] [17]\n",
      "frame= 79 [13, 17, 18] [17]\n",
      "frame= 80 [13, 17, 18] []\n",
      "frame= 81 [13, 17, 18] []\n",
      "frame= 82 [13, 17, 18] []\n",
      "frame= 83 [13, 17, 18] []\n",
      "frame= 84 [13, 17, 18] []\n",
      "frame= 85 [13, 17, 18] []\n",
      "frame= 86 [13, 17, 18] [16]\n",
      "frame= 87 [13, 17, 18] [16]\n",
      "frame= 88 [13, 17, 18] [17]\n",
      "frame= 89 [13, 17, 18] []\n",
      "frame= 90 [13, 17, 18] []\n",
      "frame= 91 [13, 17, 18] [16]\n",
      "frame= 92 [7, 8] [15]\n",
      "frame= 93 [7, 8] []\n",
      "frame= 94 [7, 8] [15]\n",
      "frame= 95 [7, 8] []\n",
      "fusion: [[0 1 0]]\n",
      "frame= 99 [12, 16, 17] [17]\n",
      "frame= 100 [12, 16, 17] []\n",
      "frame= 101 [12, 16, 17] []\n",
      "frame= 102 [12, 16, 17] [14]\n",
      "frame= 103 [12, 16, 17] []\n",
      "frame= 104 [7, 8, 12, 16, 17, 20] [6, 8]\n",
      "frame= 106 [] [15]\n",
      "frame= 108 [13] [12, 16]\n",
      "frame= 109 [12, 13, 16, 17] [12, 14, 16]\n",
      "frame= 110 [12, 16, 17] []\n",
      "frame= 111 [5, 12, 13, 16, 17] [10, 13]\n",
      "frame= 112 [12, 13, 16, 17] [12, 15]\n",
      "frame= 113 [12, 13, 16, 17] [11, 15, 17]\n",
      "frame= 114 [7, 12, 13, 16, 17] [11, 14]\n",
      "frame= 115 [12, 13, 16, 17] [11, 14, 15]\n",
      "frame= 116 [12, 13, 16, 17] [11, 16]\n",
      "frame= 117 [12, 13, 16, 17] [11, 17]\n",
      "frame= 118 [12, 16, 17] [14]\n",
      "frame= 119 [12, 13, 16, 17] [11, 14, 15]\n",
      "frame= 120 [12, 16, 17] []\n",
      "frame= 121 [12, 16, 17] [14]\n",
      "frame= 122 [12, 13, 16, 17] [11, 14, 16, 19]\n",
      "frame= 123 [12, 13, 16, 17] [13, 16]\n",
      "frame= 124 [12, 13, 16, 17] [11, 14, 15]\n",
      "frame= 125 [12, 16, 17] [15]\n",
      "frame= 126 [8, 12, 16, 17] [13]\n",
      "frame= 127 [12, 16, 17] [13]\n",
      "frame= 128 [12, 16, 17] [15]\n",
      "frame= 129 [] [14]\n",
      "frame= 130 [] [13]\n",
      "frame= 131 [12] [11, 16]\n",
      "frame= 132 [] [13]\n",
      "frame= 133 [] [14]\n",
      "divison: [[0 0 1]]\n",
      "frame= 134 [] [15]\n",
      "frame= 135 [] [13, 15, 16]\n",
      "frame= 136 [] [13, 15, 16, 17, 18]\n",
      "frame= 137 [] [15, 17, 18, 19, 20]\n",
      "frame= 138 [] [16, 18, 19, 20]\n",
      "frame= 139 [] [14]\n",
      "frame= 140 [19] [15]\n",
      "frame= 141 [] [16]\n",
      "frame= 142 [11] [15]\n",
      "frame= 144 [] [17]\n",
      "frame= 145 [] [18]\n",
      "frame= 146 [] [14, 16]\n",
      "frame= 147 [7] [6, 16]\n",
      "frame= 148 [] [15, 17]\n",
      "frame= 149 [] [13]\n",
      "frame= 150 [7, 8, 17] [6, 16, 17, 18]\n",
      "frame= 151 [11, 12, 18, 19] [12, 14, 15, 16]\n",
      "frame= 152 [] [14]\n",
      "frame= 154 [] [15, 17]\n",
      "frame= 155 [7, 13] [14, 15, 17]\n",
      "frame= 157 [13] [13]\n",
      "frame= 158 [13] [13]\n",
      "frame= 159 [13] [16]\n",
      "frame= 160 [13] [14]\n",
      "frame= 161 [13] [15]\n",
      "frame= 162 [13] [14]\n",
      "fusion: [[0 1 1]]\n",
      "frame= 163 [] [12]\n",
      "frame= 164 [] [12, 13]\n",
      "frame= 165 [] [13]\n",
      "frame= 166 [] [12, 13]\n",
      "divison: [[0 0 1]]\n",
      "frame= 167 [] [16]\n",
      "frame= 168 [8, 15, 17, 22] [10, 14, 16]\n",
      "frame= 169 [21, 22] [13]\n",
      "frame= 170 [21, 22] [12, 13]\n",
      "frame= 171 [21, 22] [12, 13]\n",
      "frame= 172 [21, 22] [12, 13]\n",
      "frame= 173 [21, 22] [12, 13]\n",
      "frame= 174 [21, 22] [14, 15]\n",
      "frame= 175 [] [14]\n",
      "frame= 176 [15, 21, 22] [9, 12]\n",
      "frame= 177 [20, 21] [13, 15]\n",
      "frame= 178 [20, 21] [13, 16]\n",
      "frame= 179 [14, 20, 21] [8, 13]\n",
      "frame= 180 [20, 21] [12, 13]\n",
      "frame= 181 [14, 20, 21] [9, 14]\n",
      "frame= 182 [] [12, 13]\n",
      "frame= 183 [19, 20] [12, 13]\n",
      "frame= 184 [19, 20] [13, 15]\n",
      "frame= 185 [19, 20] [13]\n",
      "frame= 186 [19, 20] [13, 14]\n",
      "frame= 187 [19, 20] [13, 15]\n",
      "frame= 188 [19] [13, 14]\n",
      "frame= 189 [] [12, 13]\n",
      "frame= 190 [] [12, 13]\n",
      "frame= 191 [] [12, 13]\n",
      "frame= 192 [] [13, 14]\n",
      "frame= 193 [] [12, 13]\n",
      "frame= 194 [] [13, 14]\n",
      "frame= 195 [] [13, 15]\n",
      "frame= 196 [] [13, 15, 16]\n",
      "frame= 197 [] [12, 13]\n",
      "frame= 198 [] [13, 15]\n",
      "frame= 199 [] [13, 14]\n",
      "frame= 200 [] [12, 13]\n",
      "frame= 201 [] [14, 15]\n",
      "frame= 202 [] [14, 15]\n",
      "frame= 203 [] [13, 15]\n",
      "frame= 204 [] [12, 13]\n",
      "frame= 205 [] [13, 14, 15]\n",
      "frame= 206 [] [13, 14]\n",
      "frame= 207 [] [13, 15]\n",
      "frame= 208 [] [13, 14]\n",
      "frame= 209 [] [11, 15]\n",
      "frame= 210 [] [14]\n",
      "frame= 211 [] [13, 14]\n",
      "frame= 212 [] [13]\n",
      "frame= 213 [] [13]\n",
      "frame= 214 [] [12, 13]\n",
      "frame= 215 [] [13]\n",
      "frame= 216 [] [13, 14]\n",
      "frame= 217 [] [15, 17]\n",
      "frame= 218 [] [15, 17]\n",
      "frame= 219 [7] [7, 15, 17]\n",
      "frame= 220 [] [15, 17]\n",
      "frame= 221 [] [13, 15]\n",
      "frame= 222 [] [13, 15]\n",
      "frame= 223 [] [15, 17]\n",
      "frame= 224 [] [14, 15]\n",
      "frame= 225 [] [14, 15]\n",
      "frame= 226 [10] [11, 15, 17, 18, 19]\n",
      "frame= 227 [10] [12, 15, 17, 18, 19]\n",
      "frame= 228 [10] [12, 15, 16, 18]\n",
      "frame= 229 [10] [11, 15, 17, 18]\n",
      "frame= 230 [10] [12, 15, 17, 18]\n",
      "frame= 231 [10] [11, 15, 17]\n",
      "frame= 232 [10] [11, 15, 16, 17]\n",
      "frame= 233 [10] [10, 13, 15, 16]\n",
      "frame= 234 [10] [10, 13, 15, 16]\n",
      "frame= 235 [10] [12, 15, 17, 18]\n",
      "frame= 236 [10] [10, 13, 15, 16]\n",
      "frame= 237 [10] [10, 13, 15, 16]\n",
      "frame= 238 [10] [10, 13, 15]\n",
      "frame= 239 [10] [10, 13, 15, 16]\n",
      "frame= 240 [10] [10, 13, 15, 16]\n",
      "CPU times: user 3.71 s, sys: 43.3 ms, total: 3.76 s\n",
      "Wall time: 3.77 s\n"
     ]
    }
   ],
   "source": [
    "%%time\n",
    "trace = Tracker(image[:, -2,], max_miss=20, min_hist=20)\n",
    "_ = trace()\n",
    "traced_image = trace.to_image()"
   ]
  },
  {
   "cell_type": "code",
   "execution_count": 90,
   "id": "495c8473-7b25-4bb0-8847-c56674b040cb",
   "metadata": {},
   "outputs": [
    {
     "data": {
      "text/plain": [
       "<matplotlib.image.AxesImage at 0x13ee9cc10>"
      ]
     },
     "execution_count": 90,
     "metadata": {},
     "output_type": "execute_result"
    },
    {
     "data": {
      "image/png": "[encoded data removed]",
      "text/plain": [
       "<Figure size 1000x500 with 2 Axes>"
      ]
     },
     "metadata": {},
     "output_type": "display_data"
    }
   ],
   "source": [
    "fig, axs = plt.subplots(1, 2, figsize=(10,5))\n",
    "id = 200\n",
    "axs[0].imshow(image[id,-2])\n",
    "axs[1].imshow(traced_image[id])"
   ]
  },
  {
   "cell_type": "code",
   "execution_count": 86,
   "id": "40c01eaf-ec52-406c-b8de-a943cd01e401",
   "metadata": {
    "tags": []
   },
   "outputs": [
    {
     "data": {
      "image/png": "[encoded data removed]",
      "text/plain": [
       "<Figure size 640x480 with 1 Axes>"
      ]
     },
     "metadata": {},
     "output_type": "display_data"
    }
   ],
   "source": [
    "nx.draw(trace.network, with_labels=True)"
   ]
  },
  {
   "cell_type": "code",
   "execution_count": 44,
   "id": "7f78faa7-3c34-4782-b1dc-8700e5f78ba5",
   "metadata": {},
   "outputs": [],
   "source": [
    "a = [1,2,3,4,5,6,7]"
   ]
  },
  {
   "cell_type": "code",
   "execution_count": 45,
   "id": "2790e56d-92d3-4d41-ae10-aaa4b99dc02e",
   "metadata": {},
   "outputs": [
    {
     "ename": "IndexError",
     "evalue": "list index out of range",
     "output_type": "error",
     "traceback": [
      "\u001b[0;31m---------------------------------------------------------------------------\u001b[0m",
      "\u001b[0;31mIndexError\u001b[0m                                Traceback (most recent call last)",
      "Cell \u001b[0;32mIn[45], line 2\u001b[0m\n\u001b[1;32m      1\u001b[0m \u001b[38;5;28;01mfor\u001b[39;00m i \u001b[38;5;129;01min\u001b[39;00m \u001b[38;5;28mrange\u001b[39m(\u001b[38;5;241m0\u001b[39m, \u001b[38;5;28mlen\u001b[39m(a)):\n\u001b[0;32m----> 2\u001b[0m     \u001b[38;5;28;01mif\u001b[39;00m \u001b[43ma\u001b[49m\u001b[43m[\u001b[49m\u001b[43mi\u001b[49m\u001b[43m]\u001b[49m \u001b[38;5;241m%\u001b[39m \u001b[38;5;241m2\u001b[39m \u001b[38;5;241m==\u001b[39m \u001b[38;5;241m0\u001b[39m:\n\u001b[1;32m      3\u001b[0m         a\u001b[38;5;241m.\u001b[39mpop(i)\n",
      "\u001b[0;31mIndexError\u001b[0m: list index out of range"
     ]
    }
   ],
   "source": [
    "for i in range(0, len(a)):\n",
    "    if a[i] % 2 == 0:\n",
    "        a.pop(i)"
   ]
  },
  {
   "cell_type": "code",
   "execution_count": 21,
   "id": "a5c15e96-f516-4a37-aa88-331fc73a0aa8",
   "metadata": {},
   "outputs": [],
   "source": [
    "tracked = np.zeros((image.shape[0], image.shape[1], image.shape[2], image.shape[3]), \n",
    "                   dtype=image.dtype)\n",
    "tracked[:, 0:image.shape[1]-1] = image[:, 0:image.shape[1]-1]\n",
    "tracked[:, image.shape[1]-1] = traced_image"
   ]
  },
  {
   "cell_type": "code",
   "execution_count": 22,
   "id": "67a75daf-bc5a-4772-ae6f-5bc603adbec1",
   "metadata": {},
   "outputs": [],
   "source": [
    "key = int(file_name.split(\"_\")[-1][:-4])\n",
    "key = np.unique(tracked[-1,-1][tracked[-1,-2] == key])[0]%1000\n",
    "c_mating = Mating(image=tracked, cells=trace.trackers, center=key, g=trace.network)"
   ]
  },
  {
   "cell_type": "code",
   "execution_count": 23,
   "id": "871f974a-2ea6-4498-a286-1a5cd76d2e8e",
   "metadata": {},
   "outputs": [
    {
     "ename": "AttributeError",
     "evalue": "module 'networkx' has no attribute 'bfs_layout'",
     "output_type": "error",
     "traceback": [
      "\u001b[0;31m---------------------------------------------------------------------------\u001b[0m",
      "\u001b[0;31mAttributeError\u001b[0m                            Traceback (most recent call last)",
      "Cell \u001b[0;32mIn[23], line 1\u001b[0m\n\u001b[0;32m----> 1\u001b[0m \u001b[43mdraw_subgraph\u001b[49m\u001b[43m(\u001b[49m\u001b[43mtrace\u001b[49m\u001b[38;5;241;43m.\u001b[39;49m\u001b[43mnetwork\u001b[49m\u001b[43m,\u001b[49m\u001b[43m \u001b[49m\u001b[43mkey\u001b[49m\u001b[43m,\u001b[49m\u001b[43m \u001b[49m\u001b[43mc_mating\u001b[49m\u001b[38;5;241;43m.\u001b[39;49m\u001b[43mp\u001b[49m\u001b[43m,\u001b[49m\u001b[43m \u001b[49m\u001b[43mc_mating\u001b[49m\u001b[38;5;241;43m.\u001b[39;49m\u001b[43mm\u001b[49m\u001b[43m)\u001b[49m\n\u001b[1;32m      2\u001b[0m \u001b[38;5;66;03m# plt.savefig(\"./figs_for_check_data/\"+os.path.basename(file_name)[:-4]+\"_net.png\")\u001b[39;00m\n",
      "File \u001b[0;32m~/project/pipeline_data_process_mating_dynamic/script_wlli/for_check_result_utils.py:26\u001b[0m, in \u001b[0;36mdraw_subgraph\u001b[0;34m(g, key, p, m)\u001b[0m\n\u001b[1;32m     24\u001b[0m nodes \u001b[38;5;241m=\u001b[39m nx\u001b[38;5;241m.\u001b[39mnode_connected_component(undirected_g, key)\n\u001b[1;32m     25\u001b[0m subgraph \u001b[38;5;241m=\u001b[39m nx\u001b[38;5;241m.\u001b[39msubgraph(undirected_g, nodes)\n\u001b[0;32m---> 26\u001b[0m pos \u001b[38;5;241m=\u001b[39m \u001b[43mnx\u001b[49m\u001b[38;5;241;43m.\u001b[39;49m\u001b[43mbfs_layout\u001b[49m(subgraph, start\u001b[38;5;241m=\u001b[39mkey)\n\u001b[1;32m     27\u001b[0m subgraph_directed \u001b[38;5;241m=\u001b[39m nx\u001b[38;5;241m.\u001b[39msubgraph(g, nodes)\n\u001b[1;32m     28\u001b[0m node_colors \u001b[38;5;241m=\u001b[39m node_color(\u001b[38;5;28mlist\u001b[39m(subgraph_directed\u001b[38;5;241m.\u001b[39mnodes), key, p, m)\n",
      "\u001b[0;31mAttributeError\u001b[0m: module 'networkx' has no attribute 'bfs_layout'"
     ]
    },
    {
     "data": {
      "image/png": "[encoded data removed]",
      "text/plain": [
       "<Figure size 500x500 with 1 Axes>"
      ]
     },
     "metadata": {},
     "output_type": "display_data"
    }
   ],
   "source": [
    "draw_subgraph(trace.network, key, c_mating.p, c_mating.m)\n",
    "# plt.savefig(\"./figs_for_check_data/\"+os.path.basename(file_name)[:-4]+\"_net.png\")"
   ]
  },
  {
   "cell_type": "code",
   "execution_count": null,
   "id": "9cd48882-243f-4b35-9a6c-012768b2e7f3",
   "metadata": {},
   "outputs": [],
   "source": []
  },
  {
   "cell_type": "code",
   "execution_count": null,
   "id": "1e2c4aa0-13d9-4d55-80cb-b5e50c242260",
   "metadata": {},
   "outputs": [],
   "source": []
  },
  {
   "cell_type": "code",
   "execution_count": null,
   "id": "10d01ce0-164c-4a8f-b5a3-fbe12951daad",
   "metadata": {},
   "outputs": [],
   "source": []
  },
  {
   "cell_type": "code",
   "execution_count": null,
   "id": "d7bf8ff9-1fc0-4961-83c3-8b3f54397b6c",
   "metadata": {},
   "outputs": [],
   "source": []
  },
  {
   "cell_type": "code",
   "execution_count": null,
   "id": "eb097946-fdd8-475d-8f73-3b776c7ce479",
   "metadata": {},
   "outputs": [],
   "source": []
  },
  {
   "cell_type": "code",
   "execution_count": 22,
   "id": "7ad085cb-d921-4596-a848-f6d4034cb244",
   "metadata": {
    "tags": []
   },
   "outputs": [],
   "source": [
    "imsave(\"./test_trace_image.tif\", traced_image, imagej=True)"
   ]
  },
  {
   "cell_type": "code",
   "execution_count": 9,
   "id": "065f9b89-5785-4252-8aa6-76c0fdb4e295",
   "metadata": {
    "tags": []
   },
   "outputs": [],
   "source": [
    "imsave(\"./test_seg_image.tif\", image[:, -2,], imagej=True)"
   ]
  },
  {
   "cell_type": "code",
   "execution_count": 68,
   "id": "810d7f4d-3128-4807-b897-2db9eb05bc28",
   "metadata": {
    "tags": []
   },
   "outputs": [],
   "source": [
    "tracked = np.zeros((image.shape[0], image.shape[1], image.shape[2], image.shape[3]), \n",
    "                   dtype=image.dtype)\n",
    "tracked[:, 0:image.shape[1]-1] = image[:, 0:image.shape[1]-1]\n",
    "tracked[:, image.shape[1]-1] = traced_image"
   ]
  },
  {
   "cell_type": "code",
   "execution_count": 47,
   "id": "cc590ca7-4b4c-40a2-b2c1-188ab3519e3a",
   "metadata": {
    "tags": []
   },
   "outputs": [],
   "source": [
    "save_name = file_name\n",
    "imsave(save_name, tracked, imagej=True)\n",
    "dump_to_pkl(trace.network, save_name[:-4]+\".network\")\n",
    "dump_to_pkl(trace.trackers, save_name[:-4]+\".tracker\")"
   ]
  },
  {
   "cell_type": "code",
   "execution_count": 48,
   "id": "ad3b9090-0ffa-4958-89d2-69b173d7138d",
   "metadata": {},
   "outputs": [
    {
     "data": {
      "text/plain": [
       "(241, 5, 250, 250)"
      ]
     },
     "execution_count": 48,
     "metadata": {},
     "output_type": "execute_result"
    }
   ],
   "source": [
    "tracked.shape"
   ]
  },
  {
   "cell_type": "code",
   "execution_count": 34,
   "id": "06afc012-c253-4ddb-9037-8e615702039b",
   "metadata": {},
   "outputs": [],
   "source": [
    "data = np.array([[0,1,2,],[3,4,5],[6,7,8]])"
   ]
  },
  {
   "cell_type": "code",
   "execution_count": 78,
   "id": "ec97ad56-1c1b-4d94-b9b8-36d1af0ce29a",
   "metadata": {},
   "outputs": [
    {
     "data": {
      "text/plain": [
       "array([[0, 1, 2],\n",
       "       [3, 4, 5],\n",
       "       [6, 7, 8]])"
      ]
     },
     "execution_count": 78,
     "metadata": {},
     "output_type": "execute_result"
    }
   ],
   "source": [
    "data"
   ]
  },
  {
   "cell_type": "code",
   "execution_count": 86,
   "id": "6c5fc4fe-2b2c-4ddd-96a5-5e2ab06e75dc",
   "metadata": {},
   "outputs": [
    {
     "data": {
      "text/plain": [
       "False"
      ]
     },
     "execution_count": 86,
     "metadata": {},
     "output_type": "execute_result"
    }
   ],
   "source": [
    "5 in data[:, 0:2]"
   ]
  },
  {
   "cell_type": "code",
   "execution_count": 80,
   "id": "62c5445d-7dd7-4874-b67c-81c8666d5709",
   "metadata": {},
   "outputs": [
    {
     "data": {
      "text/plain": [
       "array([ 3, 12, 21])"
      ]
     },
     "execution_count": 80,
     "metadata": {},
     "output_type": "execute_result"
    }
   ],
   "source": [
    "data.sum(1)"
   ]
  },
  {
   "cell_type": "code",
   "execution_count": 19,
   "id": "9b54a19b-1f4d-46b8-8650-1a8622e614f3",
   "metadata": {},
   "outputs": [],
   "source": [
    "import statistics"
   ]
  },
  {
   "cell_type": "code",
   "execution_count": 36,
   "id": "bf208da2-c825-4261-bdd1-9865c45bb813",
   "metadata": {},
   "outputs": [
    {
     "data": {
      "text/plain": [
       "2"
      ]
     },
     "execution_count": 36,
     "metadata": {},
     "output_type": "execute_result"
    }
   ],
   "source": [
    "statistics.mode([1,2,2,2,3,3,3,4,5,6])"
   ]
  },
  {
   "cell_type": "code",
   "execution_count": 31,
   "id": "c4eebfa3-1858-4d11-8b85-9d1db869d356",
   "metadata": {},
   "outputs": [],
   "source": [
    "from scipy import stats"
   ]
  },
  {
   "cell_type": "code",
   "execution_count": 34,
   "id": "de7141aa-5e19-4d35-a79b-a79141f9fb9a",
   "metadata": {},
   "outputs": [
    {
     "data": {
      "text/plain": [
       "ModeResult(mode=3, count=3)"
      ]
     },
     "execution_count": 34,
     "metadata": {},
     "output_type": "execute_result"
    }
   ],
   "source": [
    "stats.mode(np.array([1,2,2,2,3,3,3,4,5,6]) % 1000, keepdims=False)"
   ]
  },
  {
   "cell_type": "code",
   "execution_count": 35,
   "id": "72bfcec6-9bfd-4ffc-9c8c-e39a025792a2",
   "metadata": {},
   "outputs": [
    {
     "name": "stderr",
     "output_type": "stream",
     "text": [
      "/tmp/ipykernel_297213/2505128182.py:1: FutureWarning: Unlike other reduction functions (e.g. `skew`, `kurtosis`), the default behavior of `mode` typically preserves the axis it acts along. In SciPy 1.11.0, this behavior will change: the default value of `keepdims` will become False, the `axis` over which the statistic is taken will be eliminated, and the value None will no longer be accepted. Set `keepdims` to True or False to avoid this warning.\n",
      "  stats.mode(np.array([1,2,3,3,3,4,5,6]) % 1000)\n"
     ]
    },
    {
     "data": {
      "text/plain": [
       "ModeResult(mode=array([3]), count=array([3]))"
      ]
     },
     "execution_count": 35,
     "metadata": {},
     "output_type": "execute_result"
    }
   ],
   "source": [
    "stats.mode(np.array([1,2,3,3,3,4,5,6]) % 1000)"
   ]
  },
  {
   "cell_type": "code",
   "execution_count": null,
   "id": "dfecaf3c-e4a4-4cf9-8569-3a2b0e1a7857",
   "metadata": {},
   "outputs": [],
   "source": []
  }
 ],
 "metadata": {
  "kernelspec": {
   "display_name": "Python 3 (ipykernel)",
   "language": "python",
   "name": "python3"
  },
  "language_info": {
   "codemirror_mode": {
    "name": "ipython",
    "version": 3
   },
   "file_extension": ".py",
   "mimetype": "text/x-python",
   "name": "python",
   "nbconvert_exporter": "python",
   "pygments_lexer": "ipython3",
   "version": "3.10.13"
  }
 },
 "nbformat": 4,
 "nbformat_minor": 5
}
